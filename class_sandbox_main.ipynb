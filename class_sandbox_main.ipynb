{
 "cells": [
  {
   "cell_type": "code",
   "execution_count": 1,
   "metadata": {},
   "outputs": [],
   "source": [
    "import main_classes as mc"
   ]
  },
  {
   "cell_type": "code",
   "execution_count": 14,
   "metadata": {},
   "outputs": [
    {
     "data": {
      "text/plain": [
       "['MAR 29, 2024: MIN @ DEN - 07:00 PM\\nMAR 31, 2024: CLE @ DEN - 01:30 PM\\nAPR 02, 2024: SAS @ DEN - 07:00 PM\\nAPR 04, 2024: DEN @ LAC - 08:00 PM\\nAPR 06, 2024: ATL @ DEN - 07:00 PM',\n",
       " 'MAR 30, 2024: MIL @ ATL - 05:30 PM\\nAPR 01, 2024: ATL @ CHI - 06:00 PM\\nAPR 03, 2024: DET @ ATL - 05:30 PM\\nAPR 04, 2024: ATL @ DAL - 05:30 PM\\nAPR 06, 2024: ATL @ DEN - 07:00 PM']"
      ]
     },
     "execution_count": 14,
     "metadata": {},
     "output_type": "execute_result"
    }
   ],
   "source": [
    "instance_config = mc.nba(nba_teams = [\"Denver Nuggets\", \"Atlanta Hawks\"])\n",
    "final_dict = instance_config.dict_of_dfs\n",
    "instance_config.return_sch_msg(final_dict)"
   ]
  },
  {
   "cell_type": "code",
   "execution_count": 12,
   "metadata": {},
   "outputs": [],
   "source": []
  },
  {
   "cell_type": "code",
   "execution_count": null,
   "metadata": {},
   "outputs": [],
   "source": []
  }
 ],
 "metadata": {
  "kernelspec": {
   "display_name": "Python 3",
   "language": "python",
   "name": "python3"
  },
  "language_info": {
   "codemirror_mode": {
    "name": "ipython",
    "version": 3
   },
   "file_extension": ".py",
   "mimetype": "text/x-python",
   "name": "python",
   "nbconvert_exporter": "python",
   "pygments_lexer": "ipython3",
   "version": "3.10.6"
  }
 },
 "nbformat": 4,
 "nbformat_minor": 2
}
