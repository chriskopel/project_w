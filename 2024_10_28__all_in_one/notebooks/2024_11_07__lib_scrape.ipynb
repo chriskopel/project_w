{
 "cells": [
  {
   "cell_type": "markdown",
   "metadata": {},
   "source": [
    "# Use the library to scrape and org"
   ]
  },
  {
   "cell_type": "code",
   "execution_count": 1,
   "metadata": {},
   "outputs": [],
   "source": [
    "import sys\n",
    "from pathlib import Path\n",
    "\n",
    "# Define the path to the library folder\n",
    "library_path = Path(\"/Users/ckopel/Github/project_w/2024_10_28__all_in_one/library\")\n",
    "\n",
    "# Add the library folder to the system path\n",
    "sys.path.append(str(library_path))\n",
    "\n",
    "# Import your custom library\n",
    "import w_scrape_org as w"
   ]
  },
  {
   "cell_type": "code",
   "execution_count": 2,
   "metadata": {},
   "outputs": [],
   "source": [
    "scraper = w.scrape_w()"
   ]
  },
  {
   "cell_type": "markdown",
   "metadata": {},
   "source": [
    "## Scrape"
   ]
  },
  {
   "cell_type": "code",
   "execution_count": 3,
   "metadata": {},
   "outputs": [],
   "source": [
    "scraper.scrape(subject=['fb'])"
   ]
  },
  {
   "cell_type": "code",
   "execution_count": 3,
   "metadata": {},
   "outputs": [],
   "source": [
    "scraper.scrape(subject=['nfl'])"
   ]
  },
  {
   "cell_type": "code",
   "execution_count": 3,
   "metadata": {},
   "outputs": [],
   "source": [
    "scraper.scrape(subject=['nba'])"
   ]
  },
  {
   "cell_type": "code",
   "execution_count": 4,
   "metadata": {},
   "outputs": [],
   "source": [
    "scraper.scrape(subject=['nhl'])"
   ]
  },
  {
   "cell_type": "markdown",
   "metadata": {},
   "source": [
    "## Org"
   ]
  },
  {
   "cell_type": "code",
   "execution_count": 3,
   "metadata": {},
   "outputs": [
    {
     "name": "stderr",
     "output_type": "stream",
     "text": [
      "/Users/ckopel/Github/project_w/2024_10_28__all_in_one/library/w_scrape_org.py:463: FutureWarning: The argument 'date_parser' is deprecated and will be removed in a future version. Please use 'date_format' instead, or read your data in as 'object' dtype and then call 'to_datetime'.\n",
      "  df_fb = pd.read_csv(\n",
      "/Users/ckopel/Github/project_w/2024_10_28__all_in_one/library/w_scrape_org.py:477: FutureWarning: The argument 'date_parser' is deprecated and will be removed in a future version. Please use 'date_format' instead, or read your data in as 'object' dtype and then call 'to_datetime'.\n",
      "  df_nba = pd.read_csv(\n",
      "/Users/ckopel/Github/project_w/2024_10_28__all_in_one/library/w_scrape_org.py:485: UserWarning: The argument 'infer_datetime_format' is deprecated and will be removed in a future version. A strict version of it is now the default, see https://pandas.pydata.org/pdeps/0004-consistent-to-datetime-parsing.html. You can safely remove this argument.\n",
      "  df_nba['Start (ET)'] = pd.to_datetime(df_nba['Start (ET)'], infer_datetime_format=True).dt.time\n",
      "/Users/ckopel/Github/project_w/2024_10_28__all_in_one/library/w_scrape_org.py:485: UserWarning: Could not infer format, so each element will be parsed individually, falling back to `dateutil`. To ensure parsing is consistent and as-expected, please specify a format.\n",
      "  df_nba['Start (ET)'] = pd.to_datetime(df_nba['Start (ET)'], infer_datetime_format=True).dt.time\n",
      "/Users/ckopel/Github/project_w/2024_10_28__all_in_one/library/w_scrape_org.py:487: UserWarning: Could not infer format, so each element will be parsed individually, falling back to `dateutil`. To ensure parsing is consistent and as-expected, please specify a format.\n",
      "  df_nba['Time'] = pd.to_datetime(df_nba['Time'].astype(str)) - pd.to_timedelta(2, unit='hours')\n",
      "/Users/ckopel/Github/project_w/2024_10_28__all_in_one/library/w_scrape_org.py:492: FutureWarning: The argument 'date_parser' is deprecated and will be removed in a future version. Please use 'date_format' instead, or read your data in as 'object' dtype and then call 'to_datetime'.\n",
      "  df_nhl = pd.read_csv(\n",
      "/Users/ckopel/Github/project_w/2024_10_28__all_in_one/library/w_scrape_org.py:500: UserWarning: The argument 'infer_datetime_format' is deprecated and will be removed in a future version. A strict version of it is now the default, see https://pandas.pydata.org/pdeps/0004-consistent-to-datetime-parsing.html. You can safely remove this argument.\n",
      "  df_nhl['Time'] = pd.to_datetime(df_nhl['Time'], infer_datetime_format=True).dt.time\n",
      "/Users/ckopel/Github/project_w/2024_10_28__all_in_one/library/w_scrape_org.py:500: UserWarning: Could not infer format, so each element will be parsed individually, falling back to `dateutil`. To ensure parsing is consistent and as-expected, please specify a format.\n",
      "  df_nhl['Time'] = pd.to_datetime(df_nhl['Time'], infer_datetime_format=True).dt.time\n",
      "/Users/ckopel/Github/project_w/2024_10_28__all_in_one/library/w_scrape_org.py:501: UserWarning: Could not infer format, so each element will be parsed individually, falling back to `dateutil`. To ensure parsing is consistent and as-expected, please specify a format.\n",
      "  df_nhl['Time'] = pd.to_datetime(df_nhl['Time'].astype(str)) - pd.to_timedelta(2, unit='hours')\n",
      "/Users/ckopel/Github/project_w/2024_10_28__all_in_one/library/w_scrape_org.py:506: FutureWarning: The argument 'date_parser' is deprecated and will be removed in a future version. Please use 'date_format' instead, or read your data in as 'object' dtype and then call 'to_datetime'.\n",
      "  df_nfl = pd.read_csv(\n",
      "/Users/ckopel/Github/project_w/2024_10_28__all_in_one/library/w_scrape_org.py:513: UserWarning: The argument 'infer_datetime_format' is deprecated and will be removed in a future version. A strict version of it is now the default, see https://pandas.pydata.org/pdeps/0004-consistent-to-datetime-parsing.html. You can safely remove this argument.\n",
      "  df_nfl['TIME'] = pd.to_datetime(df_nfl['TIME'], infer_datetime_format=True).dt.time\n",
      "/Users/ckopel/Github/project_w/2024_10_28__all_in_one/library/w_scrape_org.py:513: UserWarning: Could not infer format, so each element will be parsed individually, falling back to `dateutil`. To ensure parsing is consistent and as-expected, please specify a format.\n",
      "  df_nfl['TIME'] = pd.to_datetime(df_nfl['TIME'], infer_datetime_format=True).dt.time\n",
      "/Users/ckopel/Github/project_w/2024_10_28__all_in_one/library/w_scrape_org.py:514: UserWarning: Could not infer format, so each element will be parsed individually, falling back to `dateutil`. To ensure parsing is consistent and as-expected, please specify a format.\n",
      "  df_nfl['TIME'] = pd.to_datetime(df_nfl['TIME'].astype(str)) - pd.to_timedelta(2, unit='hours')\n"
     ]
    }
   ],
   "source": [
    "scraper.organize_data(\n",
    "    save = 'both',\n",
    "    fb_master_filename = \"df_fb_scrape_2024_11_11.csv\", \n",
    "    nba_master_filename = \"df_nba_scrape_2024_11_11.csv\", \n",
    "    nhl_master_filename = \"df_nhl_scrape_2024_11_11.csv\", \n",
    "    nfl_master_filename = \"df_nfl_scrape_2024_11_11.csv\"\n",
    ")"
   ]
  },
  {
   "cell_type": "markdown",
   "metadata": {},
   "source": [
    "## Upload to Gsheets"
   ]
  },
  {
   "cell_type": "code",
   "execution_count": 3,
   "metadata": {},
   "outputs": [],
   "source": [
    "scraper.upload_to_gsheet(csv=\"df_master_future_2024_11_11.csv\")"
   ]
  },
  {
   "cell_type": "code",
   "execution_count": null,
   "metadata": {},
   "outputs": [],
   "source": []
  },
  {
   "cell_type": "code",
   "execution_count": 4,
   "metadata": {},
   "outputs": [],
   "source": [
    "import pandas as pd\n",
    "\n",
    "df = pd.read_csv(\"/Users/ckopel/Github/project_w/data/master_future/df_master_future_2024_11_11.csv\")"
   ]
  },
  {
   "cell_type": "code",
   "execution_count": 6,
   "metadata": {},
   "outputs": [],
   "source": [
    "df = df.replace([float('inf'), -float('inf')], None)  # Replace infinite values with None\n",
    "df = df.fillna('')  # Replace NaN with an empty string"
   ]
  },
  {
   "cell_type": "code",
   "execution_count": 7,
   "metadata": {},
   "outputs": [
    {
     "data": {
      "text/html": [
       "<div>\n",
       "<style scoped>\n",
       "    .dataframe tbody tr th:only-of-type {\n",
       "        vertical-align: middle;\n",
       "    }\n",
       "\n",
       "    .dataframe tbody tr th {\n",
       "        vertical-align: top;\n",
       "    }\n",
       "\n",
       "    .dataframe thead th {\n",
       "        text-align: right;\n",
       "    }\n",
       "</style>\n",
       "<table border=\"1\" class=\"dataframe\">\n",
       "  <thead>\n",
       "    <tr style=\"text-align: right;\">\n",
       "      <th></th>\n",
       "      <th>user_team</th>\n",
       "      <th>Date</th>\n",
       "      <th>game_type</th>\n",
       "      <th>Home Team</th>\n",
       "      <th>Away Team</th>\n",
       "      <th>Time</th>\n",
       "      <th>Sport</th>\n",
       "    </tr>\n",
       "  </thead>\n",
       "  <tbody>\n",
       "    <tr>\n",
       "      <th>0</th>\n",
       "      <td>Buffalo Sabres</td>\n",
       "      <td>2024-11-11</td>\n",
       "      <td>Regular Season</td>\n",
       "      <td>Buffalo Sabres</td>\n",
       "      <td>Montreal Canadiens</td>\n",
       "      <td>10:30:00</td>\n",
       "      <td>NHL</td>\n",
       "    </tr>\n",
       "    <tr>\n",
       "      <th>1</th>\n",
       "      <td>Montreal Canadiens</td>\n",
       "      <td>2024-11-11</td>\n",
       "      <td>Regular Season</td>\n",
       "      <td>Buffalo Sabres</td>\n",
       "      <td>Montreal Canadiens</td>\n",
       "      <td>10:30:00</td>\n",
       "      <td>NHL</td>\n",
       "    </tr>\n",
       "    <tr>\n",
       "      <th>2</th>\n",
       "      <td>Philadelphia Flyers</td>\n",
       "      <td>2024-11-11</td>\n",
       "      <td>Regular Season</td>\n",
       "      <td>Philadelphia Flyers</td>\n",
       "      <td>San Jose Sharks</td>\n",
       "      <td>17:00:00</td>\n",
       "      <td>NHL</td>\n",
       "    </tr>\n",
       "    <tr>\n",
       "      <th>3</th>\n",
       "      <td>San Jose Sharks</td>\n",
       "      <td>2024-11-11</td>\n",
       "      <td>Regular Season</td>\n",
       "      <td>Philadelphia Flyers</td>\n",
       "      <td>San Jose Sharks</td>\n",
       "      <td>17:00:00</td>\n",
       "      <td>NHL</td>\n",
       "    </tr>\n",
       "    <tr>\n",
       "      <th>4</th>\n",
       "      <td>Dallas Stars</td>\n",
       "      <td>2024-11-11</td>\n",
       "      <td>Regular Season</td>\n",
       "      <td>Pittsburgh Penguins</td>\n",
       "      <td>Dallas Stars</td>\n",
       "      <td>17:00:00</td>\n",
       "      <td>NHL</td>\n",
       "    </tr>\n",
       "    <tr>\n",
       "      <th>...</th>\n",
       "      <td>...</td>\n",
       "      <td>...</td>\n",
       "      <td>...</td>\n",
       "      <td>...</td>\n",
       "      <td>...</td>\n",
       "      <td>...</td>\n",
       "      <td>...</td>\n",
       "    </tr>\n",
       "    <tr>\n",
       "      <th>6850</th>\n",
       "      <td>Osasuna</td>\n",
       "      <td>2025-05-24</td>\n",
       "      <td>LAL</td>\n",
       "      <td>Alaves</td>\n",
       "      <td>Osasuna</td>\n",
       "      <td></td>\n",
       "      <td>Soccer</td>\n",
       "    </tr>\n",
       "    <tr>\n",
       "      <th>6851</th>\n",
       "      <td>Espanyol</td>\n",
       "      <td>2025-05-24</td>\n",
       "      <td>LAL</td>\n",
       "      <td>Espanyol</td>\n",
       "      <td>Las Palmas</td>\n",
       "      <td></td>\n",
       "      <td>Soccer</td>\n",
       "    </tr>\n",
       "    <tr>\n",
       "      <th>6852</th>\n",
       "      <td>Celta Vigo</td>\n",
       "      <td>2025-05-24</td>\n",
       "      <td>LAL</td>\n",
       "      <td>Getafe</td>\n",
       "      <td>Celta Vigo</td>\n",
       "      <td></td>\n",
       "      <td>Soccer</td>\n",
       "    </tr>\n",
       "    <tr>\n",
       "      <th>6853</th>\n",
       "      <td>Real Valladolid</td>\n",
       "      <td>2025-05-24</td>\n",
       "      <td>LAL</td>\n",
       "      <td>Leganes</td>\n",
       "      <td>Real Valladolid</td>\n",
       "      <td></td>\n",
       "      <td>Soccer</td>\n",
       "    </tr>\n",
       "    <tr>\n",
       "      <th>6854</th>\n",
       "      <td>Sevilla</td>\n",
       "      <td>2025-05-24</td>\n",
       "      <td>LAL</td>\n",
       "      <td>Villarreal</td>\n",
       "      <td>Sevilla</td>\n",
       "      <td></td>\n",
       "      <td>Soccer</td>\n",
       "    </tr>\n",
       "  </tbody>\n",
       "</table>\n",
       "<p>6855 rows × 7 columns</p>\n",
       "</div>"
      ],
      "text/plain": [
       "                user_team        Date       game_type            Home Team  \\\n",
       "0          Buffalo Sabres  2024-11-11  Regular Season       Buffalo Sabres   \n",
       "1      Montreal Canadiens  2024-11-11  Regular Season       Buffalo Sabres   \n",
       "2     Philadelphia Flyers  2024-11-11  Regular Season  Philadelphia Flyers   \n",
       "3         San Jose Sharks  2024-11-11  Regular Season  Philadelphia Flyers   \n",
       "4            Dallas Stars  2024-11-11  Regular Season  Pittsburgh Penguins   \n",
       "...                   ...         ...             ...                  ...   \n",
       "6850              Osasuna  2025-05-24             LAL               Alaves   \n",
       "6851             Espanyol  2025-05-24             LAL             Espanyol   \n",
       "6852           Celta Vigo  2025-05-24             LAL               Getafe   \n",
       "6853      Real Valladolid  2025-05-24             LAL              Leganes   \n",
       "6854              Sevilla  2025-05-24             LAL           Villarreal   \n",
       "\n",
       "               Away Team      Time   Sport  \n",
       "0     Montreal Canadiens  10:30:00     NHL  \n",
       "1     Montreal Canadiens  10:30:00     NHL  \n",
       "2        San Jose Sharks  17:00:00     NHL  \n",
       "3        San Jose Sharks  17:00:00     NHL  \n",
       "4           Dallas Stars  17:00:00     NHL  \n",
       "...                  ...       ...     ...  \n",
       "6850             Osasuna            Soccer  \n",
       "6851          Las Palmas            Soccer  \n",
       "6852          Celta Vigo            Soccer  \n",
       "6853     Real Valladolid            Soccer  \n",
       "6854             Sevilla            Soccer  \n",
       "\n",
       "[6855 rows x 7 columns]"
      ]
     },
     "execution_count": 7,
     "metadata": {},
     "output_type": "execute_result"
    }
   ],
   "source": [
    "df"
   ]
  },
  {
   "cell_type": "code",
   "execution_count": 8,
   "metadata": {},
   "outputs": [
    {
     "data": {
      "text/plain": [
       "'2024-11-11'"
      ]
     },
     "execution_count": 8,
     "metadata": {},
     "output_type": "execute_result"
    }
   ],
   "source": [
    "df.Date[0]"
   ]
  },
  {
   "cell_type": "code",
   "execution_count": 10,
   "metadata": {},
   "outputs": [
    {
     "data": {
      "text/plain": [
       "'10:30:00'"
      ]
     },
     "execution_count": 10,
     "metadata": {},
     "output_type": "execute_result"
    }
   ],
   "source": [
    "df.Time[0]"
   ]
  },
  {
   "cell_type": "code",
   "execution_count": null,
   "metadata": {},
   "outputs": [],
   "source": []
  }
 ],
 "metadata": {
  "kernelspec": {
   "display_name": "Python 3",
   "language": "python",
   "name": "python3"
  },
  "language_info": {
   "codemirror_mode": {
    "name": "ipython",
    "version": 3
   },
   "file_extension": ".py",
   "mimetype": "text/x-python",
   "name": "python",
   "nbconvert_exporter": "python",
   "pygments_lexer": "ipython3",
   "version": "3.9.6"
  }
 },
 "nbformat": 4,
 "nbformat_minor": 2
}
