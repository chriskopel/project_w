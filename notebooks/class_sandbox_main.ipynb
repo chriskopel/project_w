{
 "cells": [
  {
   "cell_type": "code",
   "execution_count": 1,
   "metadata": {},
   "outputs": [],
   "source": [
    "import main_classes as mc"
   ]
  },
  {
   "cell_type": "code",
   "execution_count": 3,
   "metadata": {},
   "outputs": [],
   "source": [
    "import pandas as pd\n",
    "\n",
    "nba_path = mc.SportsBaseClass.nba_team_abbr_lkp_path\n",
    "nba_abbr_list = pd.read_csv(nba_path).abbr.tolist()\n",
    "# nba_abbr_list"
   ]
  },
  {
   "cell_type": "markdown",
   "metadata": {},
   "source": [
    "# NBA"
   ]
  },
  {
   "cell_type": "code",
   "execution_count": 4,
   "metadata": {},
   "outputs": [],
   "source": [
    "nba = mc.nba(teams_abbr=['BOS'])"
   ]
  },
  {
   "cell_type": "code",
   "execution_count": 5,
   "metadata": {},
   "outputs": [
    {
     "data": {
      "text/html": [
       "<div>\n",
       "<style scoped>\n",
       "    .dataframe tbody tr th:only-of-type {\n",
       "        vertical-align: middle;\n",
       "    }\n",
       "\n",
       "    .dataframe tbody tr th {\n",
       "        vertical-align: top;\n",
       "    }\n",
       "\n",
       "    .dataframe thead th {\n",
       "        text-align: right;\n",
       "    }\n",
       "</style>\n",
       "<table border=\"1\" class=\"dataframe\">\n",
       "  <thead>\n",
       "    <tr style=\"text-align: right;\">\n",
       "      <th></th>\n",
       "      <th>Date</th>\n",
       "      <th>Start (ET)</th>\n",
       "      <th>Home/Away</th>\n",
       "      <th>Opponent</th>\n",
       "      <th>user_team</th>\n",
       "    </tr>\n",
       "  </thead>\n",
       "  <tbody>\n",
       "  </tbody>\n",
       "</table>\n",
       "</div>"
      ],
      "text/plain": [
       "Empty DataFrame\n",
       "Columns: [Date, Start (ET), Home/Away, Opponent, user_team]\n",
       "Index: []"
      ]
     },
     "execution_count": 5,
     "metadata": {},
     "output_type": "execute_result"
    }
   ],
   "source": [
    "nba.retrieve_schedule()"
   ]
  },
  {
   "cell_type": "code",
   "execution_count": 2,
   "metadata": {},
   "outputs": [],
   "source": [
    "nuggets = mc.nba(\n",
    "    teams_abbr = ['DEN','IND']\n",
    "    # , n_upcoming_games = 5\n",
    ")"
   ]
  },
  {
   "cell_type": "code",
   "execution_count": null,
   "metadata": {},
   "outputs": [],
   "source": [
    "nuggets.df_nba"
   ]
  },
  {
   "cell_type": "code",
   "execution_count": 4,
   "metadata": {},
   "outputs": [
    {
     "data": {
      "text/plain": [
       "'No games found for DEN\\nUpcoming schedule for the Indiana Pacers:\\nTue, May 21, 2024 at 8:00p(ET) @ the Boston Celtics.\\nThu, May 23, 2024 at 8:00p(ET) @ the Boston Celtics.\\nSat, May 25, 2024 at 8:30p(ET) vs. the Boston Celtics.\\nMon, May 27, 2024 at 8:00p(ET) vs. the Boston Celtics.\\nWed, May 29, 2024 at nan(ET) @ the Boston Celtics.\\nFri, May 31, 2024 at nan(ET) vs. the Boston Celtics.\\nSun, Jun 2, 2024 at nan(ET) @ the Boston Celtics.\\n'"
      ]
     },
     "execution_count": 4,
     "metadata": {},
     "output_type": "execute_result"
    }
   ],
   "source": [
    "nuggets.msg_schedule()"
   ]
  },
  {
   "cell_type": "code",
   "execution_count": 5,
   "metadata": {},
   "outputs": [
    {
     "data": {
      "text/html": [
       "<div>\n",
       "<style scoped>\n",
       "    .dataframe tbody tr th:only-of-type {\n",
       "        vertical-align: middle;\n",
       "    }\n",
       "\n",
       "    .dataframe tbody tr th {\n",
       "        vertical-align: top;\n",
       "    }\n",
       "\n",
       "    .dataframe thead th {\n",
       "        text-align: right;\n",
       "    }\n",
       "</style>\n",
       "<table border=\"1\" class=\"dataframe\">\n",
       "  <thead>\n",
       "    <tr style=\"text-align: right;\">\n",
       "      <th></th>\n",
       "      <th>Date</th>\n",
       "      <th>Start (ET)</th>\n",
       "      <th>Home/Away</th>\n",
       "      <th>Opponent</th>\n",
       "      <th>user_team</th>\n",
       "    </tr>\n",
       "  </thead>\n",
       "  <tbody>\n",
       "  </tbody>\n",
       "</table>\n",
       "</div>"
      ],
      "text/plain": [
       "Empty DataFrame\n",
       "Columns: [Date, Start (ET), Home/Away, Opponent, user_team]\n",
       "Index: []"
      ]
     },
     "execution_count": 5,
     "metadata": {},
     "output_type": "execute_result"
    }
   ],
   "source": [
    "nuggets.df"
   ]
  },
  {
   "cell_type": "code",
   "execution_count": 6,
   "metadata": {},
   "outputs": [
    {
     "data": {
      "text/plain": [
       "True"
      ]
     },
     "execution_count": 6,
     "metadata": {},
     "output_type": "execute_result"
    }
   ],
   "source": [
    "nuggets.df.empty"
   ]
  },
  {
   "cell_type": "code",
   "execution_count": 6,
   "metadata": {},
   "outputs": [
    {
     "name": "stdout",
     "output_type": "stream",
     "text": [
      "Upcoming schedule for the Denver Nuggets:\n",
      "Sun, May 12, 2024 at 8:00p(ET) @ the Minnesota Timberwolves.\n",
      "Tue, May 14, 2024 at 10:30p(ET) vs. the Minnesota Timberwolves.\n",
      "Thu, May 16, 2024 at nan(ET) @ the Minnesota Timberwolves.\n",
      "Sun, May 19, 2024 at nan(ET) vs. the Minnesota Timberwolves.\n",
      "\n"
     ]
    }
   ],
   "source": [
    "mc.nba(teams_abbr=['DEN']).msg_schedule()"
   ]
  },
  {
   "cell_type": "code",
   "execution_count": 4,
   "metadata": {},
   "outputs": [
    {
     "name": "stdout",
     "output_type": "stream",
     "text": [
      "Upcoming schedule for the Denver Nuggets:\n",
      "Sun, May 12, 2024 at 8:00p(ET) @ the Minnesota Timberwolves.\n",
      "Tue, May 14, 2024 at 10:30p(ET) vs. the Minnesota Timberwolves.\n",
      "Thu, May 16, 2024 at nan(ET) @ the Minnesota Timberwolves.\n",
      "Sun, May 19, 2024 at nan(ET) vs. the Minnesota Timberwolves.\n",
      "\n"
     ]
    }
   ],
   "source": [
    "nugs_sch = nuggets.msg_schedule()\n",
    "print(nugs_sch)"
   ]
  },
  {
   "cell_type": "markdown",
   "metadata": {},
   "source": [
    "# NHL"
   ]
  },
  {
   "cell_type": "code",
   "execution_count": 4,
   "metadata": {},
   "outputs": [],
   "source": [
    "nhl_teams = mc.nhl(\n",
    "    teams_abbr = ['COL']\n",
    "    # , n_upcoming_games = 5\n",
    ")"
   ]
  },
  {
   "cell_type": "code",
   "execution_count": 5,
   "metadata": {},
   "outputs": [
    {
     "name": "stdout",
     "output_type": "stream",
     "text": [
      "Upcoming schedule for the Colorado Avalanche:\n",
      "Fri, Apr 26, 2024 at 10:00 PM(ET) vs. the Winnipeg Jets.\n",
      "Sun, Apr 28, 2024 at 2:30 PM(ET) vs. the Winnipeg Jets.\n",
      "Tue, Apr 30, 2024 at 1:00 PM(ET) @ the Winnipeg Jets.\n",
      "Thu, May 02, 2024 at 1:00 PM(ET) vs. the Winnipeg Jets.\n",
      "Sat, May 04, 2024 at 1:00 PM(ET) @ the Winnipeg Jets.\n",
      "\n"
     ]
    }
   ],
   "source": [
    "nhl_teams.msg_schedule()"
   ]
  },
  {
   "cell_type": "markdown",
   "metadata": {},
   "source": [
    "# Football"
   ]
  },
  {
   "cell_type": "code",
   "execution_count": 2,
   "metadata": {},
   "outputs": [],
   "source": [
    "footy_config = mc.football(football_teams = ['Manchester City'])"
   ]
  },
  {
   "cell_type": "code",
   "execution_count": 3,
   "metadata": {},
   "outputs": [
    {
     "ename": "IndexError",
     "evalue": "list index out of range",
     "output_type": "error",
     "traceback": [
      "\u001b[1;31m---------------------------------------------------------------------------\u001b[0m",
      "\u001b[1;31mIndexError\u001b[0m                                Traceback (most recent call last)",
      "Input \u001b[1;32mIn [3]\u001b[0m, in \u001b[0;36m<cell line: 1>\u001b[1;34m()\u001b[0m\n\u001b[1;32m----> 1\u001b[0m \u001b[43mfooty_config\u001b[49m\u001b[38;5;241;43m.\u001b[39;49m\u001b[43mget_games\u001b[49m\u001b[43m(\u001b[49m\u001b[38;5;124;43m'\u001b[39;49m\u001b[38;5;124;43mnext\u001b[39;49m\u001b[38;5;124;43m'\u001b[39;49m\u001b[43m)\u001b[49m\n",
      "File \u001b[1;32mc:\\Users\\Owner\\Documents\\Data Projects\\GitHub\\Apps\\project_w\\notebooks\\main_classes.py:268\u001b[0m, in \u001b[0;36mfootball.get_games\u001b[1;34m(self, prev_or_next)\u001b[0m\n\u001b[0;32m    266\u001b[0m soup \u001b[38;5;241m=\u001b[39m BeautifulSoup(team_response\u001b[38;5;241m.\u001b[39mtext, \u001b[38;5;124m'\u001b[39m\u001b[38;5;124mhtml.parser\u001b[39m\u001b[38;5;124m'\u001b[39m)\n\u001b[0;32m    267\u001b[0m table \u001b[38;5;241m=\u001b[39m soup\u001b[38;5;241m.\u001b[39mfind_all(\u001b[38;5;124m'\u001b[39m\u001b[38;5;124mtable\u001b[39m\u001b[38;5;124m'\u001b[39m, class_\u001b[38;5;241m=\u001b[39m\u001b[38;5;124m'\u001b[39m\u001b[38;5;124mmatches\u001b[39m\u001b[38;5;124m'\u001b[39m)\n\u001b[1;32m--> 268\u001b[0m dates \u001b[38;5;241m=\u001b[39m [row\u001b[38;5;241m.\u001b[39mtext \u001b[38;5;28;01mfor\u001b[39;00m row \u001b[38;5;129;01min\u001b[39;00m \u001b[43mtable\u001b[49m\u001b[43m[\u001b[49m\u001b[38;5;241;43m0\u001b[39;49m\u001b[43m]\u001b[49m\u001b[38;5;241m.\u001b[39mfind_all(\u001b[38;5;124m'\u001b[39m\u001b[38;5;124mtd\u001b[39m\u001b[38;5;124m'\u001b[39m, class_\u001b[38;5;241m=\u001b[39m\u001b[38;5;124m\"\u001b[39m\u001b[38;5;124mfull-date\u001b[39m\u001b[38;5;124m\"\u001b[39m)]\n\u001b[0;32m    269\u001b[0m leagues \u001b[38;5;241m=\u001b[39m [row\u001b[38;5;241m.\u001b[39mtext\u001b[38;5;241m.\u001b[39mstrip() \u001b[38;5;28;01mfor\u001b[39;00m row \u001b[38;5;129;01min\u001b[39;00m table[\u001b[38;5;241m0\u001b[39m]\u001b[38;5;241m.\u001b[39mfind_all(\u001b[38;5;124m'\u001b[39m\u001b[38;5;124mtd\u001b[39m\u001b[38;5;124m'\u001b[39m, class_\u001b[38;5;241m=\u001b[39m\u001b[38;5;124m\"\u001b[39m\u001b[38;5;124mcompetition\u001b[39m\u001b[38;5;124m\"\u001b[39m)]\n\u001b[0;32m    270\u001b[0m homes \u001b[38;5;241m=\u001b[39m [row\u001b[38;5;241m.\u001b[39mtext\u001b[38;5;241m.\u001b[39mstrip() \u001b[38;5;28;01mfor\u001b[39;00m row \u001b[38;5;129;01min\u001b[39;00m table[\u001b[38;5;241m0\u001b[39m]\u001b[38;5;241m.\u001b[39mfind_all(\u001b[38;5;124m'\u001b[39m\u001b[38;5;124mtd\u001b[39m\u001b[38;5;124m'\u001b[39m, class_\u001b[38;5;241m=\u001b[39m\u001b[38;5;124m\"\u001b[39m\u001b[38;5;124mteam\u001b[39m\u001b[38;5;124m\"\u001b[39m)[::\u001b[38;5;241m2\u001b[39m]]\n",
      "\u001b[1;31mIndexError\u001b[0m: list index out of range"
     ]
    }
   ],
   "source": [
    "footy_config.get_games('next')"
   ]
  },
  {
   "cell_type": "code",
   "execution_count": 8,
   "metadata": {},
   "outputs": [
    {
     "ename": "IndexError",
     "evalue": "list index out of range",
     "output_type": "error",
     "traceback": [
      "\u001b[1;31m---------------------------------------------------------------------------\u001b[0m",
      "\u001b[1;31mIndexError\u001b[0m                                Traceback (most recent call last)",
      "Input \u001b[1;32mIn [8]\u001b[0m, in \u001b[0;36m<cell line: 1>\u001b[1;34m()\u001b[0m\n\u001b[1;32m----> 1\u001b[0m \u001b[43mfooty_config\u001b[49m\u001b[38;5;241;43m.\u001b[39;49m\u001b[43mget_games\u001b[49m\u001b[43m(\u001b[49m\u001b[38;5;124;43m'\u001b[39;49m\u001b[38;5;124;43mprev\u001b[39;49m\u001b[38;5;124;43m'\u001b[39;49m\u001b[43m)\u001b[49m\n",
      "File \u001b[1;32mc:\\Users\\Owner\\Documents\\Data Projects\\GitHub\\Apps\\project_w\\notebooks\\main_classes.py:268\u001b[0m, in \u001b[0;36mfootball.get_games\u001b[1;34m(self, prev_or_next)\u001b[0m\n\u001b[0;32m    266\u001b[0m soup \u001b[38;5;241m=\u001b[39m BeautifulSoup(team_response\u001b[38;5;241m.\u001b[39mtext, \u001b[38;5;124m'\u001b[39m\u001b[38;5;124mhtml.parser\u001b[39m\u001b[38;5;124m'\u001b[39m)\n\u001b[0;32m    267\u001b[0m table \u001b[38;5;241m=\u001b[39m soup\u001b[38;5;241m.\u001b[39mfind_all(\u001b[38;5;124m'\u001b[39m\u001b[38;5;124mtable\u001b[39m\u001b[38;5;124m'\u001b[39m, class_\u001b[38;5;241m=\u001b[39m\u001b[38;5;124m'\u001b[39m\u001b[38;5;124mmatches\u001b[39m\u001b[38;5;124m'\u001b[39m)\n\u001b[1;32m--> 268\u001b[0m dates \u001b[38;5;241m=\u001b[39m [row\u001b[38;5;241m.\u001b[39mtext \u001b[38;5;28;01mfor\u001b[39;00m row \u001b[38;5;129;01min\u001b[39;00m \u001b[43mtable\u001b[49m\u001b[43m[\u001b[49m\u001b[38;5;241;43m0\u001b[39;49m\u001b[43m]\u001b[49m\u001b[38;5;241m.\u001b[39mfind_all(\u001b[38;5;124m'\u001b[39m\u001b[38;5;124mtd\u001b[39m\u001b[38;5;124m'\u001b[39m, class_\u001b[38;5;241m=\u001b[39m\u001b[38;5;124m\"\u001b[39m\u001b[38;5;124mfull-date\u001b[39m\u001b[38;5;124m\"\u001b[39m)]\n\u001b[0;32m    269\u001b[0m leagues \u001b[38;5;241m=\u001b[39m [row\u001b[38;5;241m.\u001b[39mtext\u001b[38;5;241m.\u001b[39mstrip() \u001b[38;5;28;01mfor\u001b[39;00m row \u001b[38;5;129;01min\u001b[39;00m table[\u001b[38;5;241m0\u001b[39m]\u001b[38;5;241m.\u001b[39mfind_all(\u001b[38;5;124m'\u001b[39m\u001b[38;5;124mtd\u001b[39m\u001b[38;5;124m'\u001b[39m, class_\u001b[38;5;241m=\u001b[39m\u001b[38;5;124m\"\u001b[39m\u001b[38;5;124mcompetition\u001b[39m\u001b[38;5;124m\"\u001b[39m)]\n\u001b[0;32m    270\u001b[0m homes \u001b[38;5;241m=\u001b[39m [row\u001b[38;5;241m.\u001b[39mtext\u001b[38;5;241m.\u001b[39mstrip() \u001b[38;5;28;01mfor\u001b[39;00m row \u001b[38;5;129;01min\u001b[39;00m table[\u001b[38;5;241m0\u001b[39m]\u001b[38;5;241m.\u001b[39mfind_all(\u001b[38;5;124m'\u001b[39m\u001b[38;5;124mtd\u001b[39m\u001b[38;5;124m'\u001b[39m, class_\u001b[38;5;241m=\u001b[39m\u001b[38;5;124m\"\u001b[39m\u001b[38;5;124mteam\u001b[39m\u001b[38;5;124m\"\u001b[39m)[::\u001b[38;5;241m2\u001b[39m]]\n",
      "\u001b[1;31mIndexError\u001b[0m: list index out of range"
     ]
    }
   ],
   "source": [
    "footy_config.get_games('prev')"
   ]
  },
  {
   "cell_type": "markdown",
   "metadata": {},
   "source": [
    "# Weather"
   ]
  },
  {
   "cell_type": "code",
   "execution_count": 9,
   "metadata": {},
   "outputs": [],
   "source": [
    "weather_config = mc.weather(['Denver'])# ,'Colorado Springs','San Diego','New York City'])"
   ]
  },
  {
   "cell_type": "code",
   "execution_count": 10,
   "metadata": {},
   "outputs": [
    {
     "name": "stdout",
     "output_type": "stream",
     "text": [
      "_______________________________________________________\n",
      "Weather for Denver:\n",
      "\n",
      "Time: 2024-09-24 09:00 - partlycloudy_day\n",
      "Temperature: 60.08°F, Wind speed: 4.47 mph, Wind direction: SSW\n",
      "Precip next 1 hour: 0.0 mm, Precip next 6 hours: 0.0 mm\n",
      "\n",
      "Time: 2024-09-24 10:00 - partlycloudy_day\n",
      "Temperature: 63.50°F, Wind speed: 4.47 mph, Wind direction: S\n",
      "Precip next 1 hour: 0.0 mm, Precip next 6 hours: 0.0 mm\n",
      "\n",
      "Time: 2024-09-24 11:00 - partlycloudy_day\n",
      "Temperature: 67.28°F, Wind speed: 5.15 mph, Wind direction: SE\n",
      "Precip next 1 hour: 0.0 mm, Precip next 6 hours: 0.0 mm\n",
      "\n",
      "Time: 2024-09-24 12:00 - partlycloudy_day\n",
      "Temperature: 71.06°F, Wind speed: 6.26 mph, Wind direction: ENE\n",
      "Precip next 1 hour: 0.0 mm, Precip next 6 hours: 0.0 mm\n",
      "\n",
      "Time: 2024-09-24 13:00 - clearsky_day\n",
      "Temperature: 73.94°F, Wind speed: 7.16 mph, Wind direction: NE\n",
      "Precip next 1 hour: 0.0 mm, Precip next 6 hours: 0.0 mm\n",
      "\n",
      "Time: 2024-09-24 14:00 - clearsky_day\n",
      "Temperature: 75.38°F, Wind speed: 9.40 mph, Wind direction: NNE\n",
      "Precip next 1 hour: 0.0 mm, Precip next 6 hours: 0.0 mm\n",
      "\n",
      "Time: 2024-09-24 15:00 - clearsky_day\n",
      "Temperature: 74.66°F, Wind speed: 9.17 mph, Wind direction: NNE\n",
      "Precip next 1 hour: 0.0 mm, Precip next 6 hours: 0.0 mm\n",
      "\n",
      "Time: 2024-09-24 16:00 - clearsky_day\n",
      "Temperature: 74.48°F, Wind speed: 7.16 mph, Wind direction: NNE\n",
      "Precip next 1 hour: 0.0 mm, Precip next 6 hours: 0.0 mm\n",
      "\n",
      "Time: 2024-09-24 17:00 - clearsky_day\n",
      "Temperature: 74.12°F, Wind speed: 4.92 mph, Wind direction: WNW\n",
      "Precip next 1 hour: 0.0 mm, Precip next 6 hours: 0.0 mm\n",
      "\n",
      "Time: 2024-09-24 18:00 - clearsky_day\n",
      "Temperature: 72.32°F, Wind speed: 6.04 mph, Wind direction: WSW\n",
      "Precip next 1 hour: 0.0 mm, Precip next 6 hours: 0.0 mm\n",
      "\n",
      "Time: 2024-09-24 19:00 - clearsky_night\n",
      "Temperature: 64.40°F, Wind speed: 5.59 mph, Wind direction: WSW\n",
      "Precip next 1 hour: 0.0 mm, Precip next 6 hours: 0.0 mm\n",
      "\n",
      "Time: 2024-09-24 20:00 - clearsky_night\n",
      "Temperature: 59.90°F, Wind speed: 4.25 mph, Wind direction: S\n",
      "Precip next 1 hour: 0.0 mm, Precip next 6 hours: 0.0 mm\n",
      "\n",
      "Time: 2024-09-24 21:00 - clearsky_night\n",
      "Temperature: 58.10°F, Wind speed: 4.92 mph, Wind direction: S\n",
      "Precip next 1 hour: 0.0 mm, Precip next 6 hours: 0.0 mm\n",
      "\n",
      "Time: 2024-09-24 22:00 - clearsky_night\n",
      "Temperature: 55.04°F, Wind speed: 4.92 mph, Wind direction: SSW\n",
      "Precip next 1 hour: 0.0 mm, Precip next 6 hours: 0.0 mm\n",
      "\n",
      "Time: 2024-09-24 23:00 - clearsky_night\n",
      "Temperature: 53.06°F, Wind speed: 4.25 mph, Wind direction: SSW\n",
      "Precip next 1 hour: 0.0 mm, Precip next 6 hours: 0.0 mm\n",
      "\n",
      "Time: 2024-09-25 00:00 - clearsky_night\n",
      "Temperature: 51.62°F, Wind speed: 3.58 mph, Wind direction: S\n",
      "Precip next 1 hour: 0.0 mm, Precip next 6 hours: 0.0 mm\n",
      "\n",
      "Time: 2024-09-25 01:00 - clearsky_night\n",
      "Temperature: 50.54°F, Wind speed: 3.80 mph, Wind direction: S\n",
      "Precip next 1 hour: 0.0 mm, Precip next 6 hours: 0.0 mm\n",
      "\n",
      "Time: 2024-09-25 02:00 - clearsky_night\n",
      "Temperature: 48.56°F, Wind speed: 4.03 mph, Wind direction: SSW\n",
      "Precip next 1 hour: 0.0 mm, Precip next 6 hours: 0.0 mm\n",
      "\n",
      "Time: 2024-09-25 03:00 - clearsky_night\n",
      "Temperature: 48.38°F, Wind speed: 5.15 mph, Wind direction: S\n",
      "Precip next 1 hour: 0.0 mm, Precip next 6 hours: 0.0 mm\n",
      "\n",
      "Time: 2024-09-25 04:00 - clearsky_night\n",
      "Temperature: 48.38°F, Wind speed: 5.82 mph, Wind direction: S\n",
      "Precip next 1 hour: 0.0 mm, Precip next 6 hours: 0.0 mm\n",
      "\n",
      "Time: 2024-09-25 05:00 - clearsky_night\n",
      "Temperature: 47.48°F, Wind speed: 6.04 mph, Wind direction: S\n",
      "Precip next 1 hour: 0.0 mm, Precip next 6 hours: 0.0 mm\n",
      "\n",
      "Time: 2024-09-25 06:00 - clearsky_night\n",
      "Temperature: 46.94°F, Wind speed: 6.04 mph, Wind direction: S\n",
      "Precip next 1 hour: 0.0 mm, Precip next 6 hours: 0.0 mm\n",
      "\n",
      "Time: 2024-09-25 07:00 - clearsky_day\n",
      "Temperature: 46.58°F, Wind speed: 6.26 mph, Wind direction: S\n",
      "Precip next 1 hour: 0.0 mm, Precip next 6 hours: 0.0 mm\n",
      "\n",
      "Time: 2024-09-25 08:00 - clearsky_day\n",
      "Temperature: 50.54°F, Wind speed: 7.61 mph, Wind direction: S\n",
      "Precip next 1 hour: 0.0 mm, Precip next 6 hours: 0.0 mm\n",
      "\n",
      "Time: 2024-09-25 09:00 - clearsky_day\n",
      "Temperature: 59.54°F, Wind speed: 6.49 mph, Wind direction: S\n",
      "Precip next 1 hour: 0.0 mm, Precip next 6 hours: 0.0 mm\n",
      "\n",
      "Time: 2024-09-25 10:00 - clearsky_day\n",
      "Temperature: 68.00°F, Wind speed: 5.15 mph, Wind direction: SSE\n",
      "Precip next 1 hour: 0.0 mm, Precip next 6 hours: 0.0 mm\n",
      "\n",
      "Time: 2024-09-25 11:00 - clearsky_day\n",
      "Temperature: 73.76°F, Wind speed: 4.25 mph, Wind direction: SE\n",
      "Precip next 1 hour: 0.0 mm, Precip next 6 hours: 0.0 mm\n",
      "\n",
      "Time: 2024-09-25 12:00 - clearsky_day\n",
      "Temperature: 78.08°F, Wind speed: 4.70 mph, Wind direction: ESE\n",
      "Precip next 1 hour: 0.0 mm, Precip next 6 hours: 0.0 mm\n",
      "\n",
      "Time: 2024-09-25 13:00 - clearsky_day\n",
      "Temperature: 81.14°F, Wind speed: 6.04 mph, Wind direction: E\n",
      "Precip next 1 hour: 0.0 mm, Precip next 6 hours: 0.0 mm\n",
      "\n",
      "Time: 2024-09-25 14:00 - clearsky_day\n",
      "Temperature: 83.12°F, Wind speed: 7.83 mph, Wind direction: E\n",
      "Precip next 1 hour: 0.0 mm, Precip next 6 hours: 0.0 mm\n",
      "\n",
      "Time: 2024-09-25 15:00 - clearsky_day\n",
      "Temperature: 84.38°F, Wind speed: 9.17 mph, Wind direction: E\n",
      "Precip next 1 hour: 0.0 mm, Precip next 6 hours: 0.0 mm\n",
      "\n",
      "Time: 2024-09-25 16:00 - clearsky_day\n",
      "Temperature: 85.10°F, Wind speed: 9.84 mph, Wind direction: ENE\n",
      "Precip next 1 hour: 0.0 mm, Precip next 6 hours: 0.0 mm\n",
      "\n",
      "Time: 2024-09-25 17:00 - clearsky_day\n",
      "Temperature: 84.74°F, Wind speed: 10.74 mph, Wind direction: ENE\n",
      "Precip next 1 hour: 0.0 mm, Precip next 6 hours: 0.0 mm\n",
      "\n",
      "Time: 2024-09-25 18:00 - clearsky_day\n",
      "Temperature: 79.88°F, Wind speed: 8.72 mph, Wind direction: NE\n",
      "Precip next 1 hour: 0.0 mm, Precip next 6 hours: 0.0 mm\n",
      "\n",
      "Time: 2024-09-25 19:00 - clearsky_night\n",
      "Temperature: 71.06°F, Wind speed: 8.95 mph, Wind direction: SSE\n",
      "Precip next 1 hour: 0.0 mm, Precip next 6 hours: 0.0 mm\n",
      "\n",
      "Time: 2024-09-25 20:00 - clearsky_night\n",
      "Temperature: 68.36°F, Wind speed: 8.50 mph, Wind direction: S\n",
      "Precip next 1 hour: 0.0 mm, Precip next 6 hours: 0.0 mm\n",
      "\n",
      "Time: 2024-09-25 21:00 - clearsky_night\n",
      "Temperature: 63.32°F, Wind speed: 10.07 mph, Wind direction: S\n",
      "Precip next 1 hour: 0.0 mm, Precip next 6 hours: 0.0 mm\n",
      "\n",
      "Time: 2024-09-25 22:00 - clearsky_night\n",
      "Temperature: 59.90°F, Wind speed: 10.29 mph, Wind direction: S\n",
      "Precip next 1 hour: 0.0 mm, Precip next 6 hours: 0.0 mm\n",
      "\n",
      "Time: 2024-09-25 23:00 - clearsky_night\n",
      "Temperature: 57.20°F, Wind speed: 8.95 mph, Wind direction: S\n",
      "Precip next 1 hour: 0.0 mm, Precip next 6 hours: 0.0 mm\n",
      "\n",
      "Time: 2024-09-26 00:00 - clearsky_night\n",
      "Temperature: 56.12°F, Wind speed: 8.50 mph, Wind direction: S\n",
      "Precip next 1 hour: 0.0 mm, Precip next 6 hours: 0.0 mm\n",
      "\n",
      "Time: 2024-09-26 01:00 - clearsky_night\n",
      "Temperature: 54.68°F, Wind speed: 8.50 mph, Wind direction: SSW\n",
      "Precip next 1 hour: 0.0 mm, Precip next 6 hours: 0.0 mm\n",
      "\n",
      "Time: 2024-09-26 02:00 - clearsky_night\n",
      "Temperature: 54.14°F, Wind speed: 8.28 mph, Wind direction: S\n",
      "Precip next 1 hour: 0.0 mm, Precip next 6 hours: 0.0 mm\n",
      "\n",
      "Time: 2024-09-26 03:00 - clearsky_night\n",
      "Temperature: 52.16°F, Wind speed: 6.93 mph, Wind direction: SSW\n",
      "Precip next 1 hour: 0.0 mm, Precip next 6 hours: 0.0 mm\n",
      "\n",
      "Time: 2024-09-26 04:00 - clearsky_night\n",
      "Temperature: 51.62°F, Wind speed: 6.04 mph, Wind direction: SSW\n",
      "Precip next 1 hour: 0.0 mm, Precip next 6 hours: 0.0 mm\n",
      "\n",
      "Time: 2024-09-26 05:00 - clearsky_night\n",
      "Temperature: 50.72°F, Wind speed: 6.04 mph, Wind direction: S\n",
      "Precip next 1 hour: 0.0 mm, Precip next 6 hours: 0.0 mm\n",
      "\n",
      "Time: 2024-09-26 06:00 - clearsky_night\n",
      "Temperature: 49.28°F, Wind speed: 5.37 mph, Wind direction: S\n",
      "Precip next 1 hour: 0.0 mm, Precip next 6 hours: 0.0 mm\n",
      "\n",
      "Time: 2024-09-26 07:00 - clearsky_day\n",
      "Temperature: 48.74°F, Wind speed: 5.37 mph, Wind direction: S\n",
      "Precip next 1 hour: 0.0 mm, Precip next 6 hours: 0.0 mm\n",
      "\n",
      "Time: 2024-09-26 08:00 - clearsky_day\n",
      "Temperature: 53.78°F, Wind speed: 6.49 mph, Wind direction: S\n",
      "Precip next 1 hour: 0.0 mm, Precip next 6 hours: 0.0 mm\n",
      "\n",
      "Time: 2024-09-26 09:00 - clearsky_day\n",
      "Temperature: 62.60°F, Wind speed: 5.15 mph, Wind direction: SSE\n",
      "Precip next 1 hour: 0.0 mm, Precip next 6 hours: 0.0 mm\n",
      "\n",
      "Time: 2024-09-26 10:00 - clearsky_day\n",
      "Temperature: 71.24°F, Wind speed: 3.58 mph, Wind direction: SE\n",
      "Precip next 1 hour: 0.0 mm, Precip next 6 hours: 0.0 mm\n",
      "\n",
      "Time: 2024-09-26 11:00 - clearsky_day\n",
      "Temperature: 78.62°F, Wind speed: 3.80 mph, Wind direction: E\n",
      "Precip next 1 hour: 0.0 mm, Precip next 6 hours: 0.0 mm\n",
      "\n",
      "Time: 2024-09-26 12:00 - clearsky_day\n",
      "Temperature: 83.48°F, Wind speed: 6.71 mph, Wind direction: NE\n",
      "Precip next 1 hour: 0.0 mm, Precip next 6 hours: 0.0 mm\n",
      "\n",
      "Time: 2024-09-26 13:00 - fair_day\n",
      "Temperature: 86.90°F, Wind speed: 9.40 mph, Wind direction: NNE\n",
      "Precip next 1 hour: 0.0 mm, Precip next 6 hours: 0.0 mm\n",
      "\n",
      "Time: 2024-09-26 14:00 - fair_day\n",
      "Temperature: 88.34°F, Wind speed: 10.96 mph, Wind direction: NNE\n",
      "Precip next 1 hour: 0.0 mm, Precip next 6 hours: 0.0 mm\n",
      "\n",
      "Time: 2024-09-26 15:00 - fair_day\n",
      "Temperature: 88.70°F, Wind speed: 10.96 mph, Wind direction: NNE\n",
      "Precip next 1 hour: 0.0 mm, Precip next 6 hours: 0.0 mm\n",
      "\n",
      "Time: 2024-09-26 16:00 - partlycloudy_day\n",
      "Temperature: 88.34°F, Wind speed: 10.96 mph, Wind direction: NE\n",
      "Precip next 1 hour: 0.0 mm, Precip next 6 hours: 0.0 mm\n",
      "\n",
      "Time: 2024-09-26 17:00 - partlycloudy_day\n",
      "Temperature: 86.90°F, Wind speed: 12.08 mph, Wind direction: ENE\n",
      "Precip next 1 hour: 0.0 mm, Precip next 6 hours: 0.0 mm\n",
      "\n",
      "Time: 2024-09-26 18:00 - partlycloudy_day\n",
      "Temperature: 82.58°F, Wind speed: 9.62 mph, Wind direction: E\n",
      "Precip next 1 hour: 0.0 mm, Precip next 6 hours: 0.0 mm\n",
      "\n",
      "Time: 2024-09-26 19:00 - fair_night\n",
      "Temperature: 74.66°F, Wind speed: 6.71 mph, Wind direction: ESE\n",
      "Precip next 1 hour: 0.0 mm, Precip next 6 hours: 0.0 mm\n",
      "\n",
      "Time: 2024-09-26 20:00 - clearsky_night\n",
      "Temperature: 70.16°F, Wind speed: 6.26 mph, Wind direction: SSW\n",
      "Precip next 1 hour: 0.0 mm, Precip next 6 hours: 0.0 mm\n",
      "\n",
      "Time: 2024-09-26 21:00 - clearsky_night\n",
      "Temperature: 65.84°F, Wind speed: 5.82 mph, Wind direction: SW\n",
      "Precip next 1 hour: 0.0 mm, Precip next 6 hours: 0.0 mm\n",
      "\n",
      "Time: 2024-09-26 22:00 - fair_night\n",
      "Temperature: 62.42°F, Wind speed: 6.71 mph, Wind direction: SSW\n",
      "Precip next 1 hour: 0.0 mm, Precip next 6 hours: 0.0 mm\n",
      "\n",
      "Time: 2024-09-26 23:00 - fair_night\n",
      "Temperature: 59.90°F, Wind speed: 6.04 mph, Wind direction: S\n",
      "Precip next 1 hour: 0.0 mm, Precip next 6 hours: 0.0 mm\n",
      "\n",
      "Time: 2024-09-27 00:00 - N/A\n",
      "Temperature: 57.92°F, Wind speed: 6.04 mph, Wind direction: SSW\n",
      "Precip next 1 hour: 0.0 mm, Precip next 6 hours: 0.0 mm\n",
      "\n",
      "Time: 2024-09-27 06:00 - N/A\n",
      "Temperature: 54.50°F, Wind speed: 4.92 mph, Wind direction: NW\n",
      "Precip next 1 hour: 0.0 mm, Precip next 6 hours: 0.0 mm\n",
      "\n",
      "Time: 2024-09-27 12:00 - N/A\n",
      "Temperature: 75.20°F, Wind speed: 5.82 mph, Wind direction: N\n",
      "Precip next 1 hour: 0.0 mm, Precip next 6 hours: 0.0 mm\n",
      "\n",
      "Time: 2024-09-27 18:00 - N/A\n",
      "Temperature: 78.26°F, Wind speed: 2.24 mph, Wind direction: NNE\n",
      "Precip next 1 hour: 0.0 mm, Precip next 6 hours: 0.0 mm\n",
      "\n",
      "Time: 2024-09-28 00:00 - N/A\n",
      "Temperature: 58.64°F, Wind speed: 3.13 mph, Wind direction: S\n",
      "Precip next 1 hour: 0.0 mm, Precip next 6 hours: 0.0 mm\n",
      "\n",
      "Time: 2024-09-28 06:00 - N/A\n",
      "Temperature: 52.16°F, Wind speed: 3.36 mph, Wind direction: SSW\n",
      "Precip next 1 hour: 0.0 mm, Precip next 6 hours: 0.0 mm\n",
      "\n",
      "Time: 2024-09-28 12:00 - N/A\n",
      "Temperature: 80.24°F, Wind speed: 3.13 mph, Wind direction: NE\n",
      "Precip next 1 hour: 0.0 mm, Precip next 6 hours: 0.0 mm\n",
      "\n",
      "Time: 2024-09-28 18:00 - N/A\n",
      "Temperature: 79.16°F, Wind speed: 7.61 mph, Wind direction: ENE\n",
      "Precip next 1 hour: 0.0 mm, Precip next 6 hours: 0.0 mm\n",
      "\n",
      "Time: 2024-09-29 00:00 - N/A\n",
      "Temperature: 62.24°F, Wind speed: 3.80 mph, Wind direction: SSE\n",
      "Precip next 1 hour: 0.0 mm, Precip next 6 hours: 0.0 mm\n",
      "\n",
      "Time: 2024-09-29 06:00 - N/A\n",
      "Temperature: 49.82°F, Wind speed: 2.68 mph, Wind direction: SSW\n",
      "Precip next 1 hour: 0.0 mm, Precip next 6 hours: 0.0 mm\n",
      "\n",
      "Time: 2024-09-29 12:00 - N/A\n",
      "Temperature: 78.98°F, Wind speed: 2.46 mph, Wind direction: NE\n",
      "Precip next 1 hour: 0.0 mm, Precip next 6 hours: 0.0 mm\n",
      "\n",
      "Time: 2024-09-29 18:00 - N/A\n",
      "Temperature: 79.16°F, Wind speed: 2.01 mph, Wind direction: SSW\n",
      "Precip next 1 hour: 0.0 mm, Precip next 6 hours: 0.0 mm\n",
      "\n",
      "Time: 2024-09-30 00:00 - N/A\n",
      "Temperature: 56.66°F, Wind speed: 3.80 mph, Wind direction: SSW\n",
      "Precip next 1 hour: 0.0 mm, Precip next 6 hours: 0.0 mm\n",
      "\n",
      "Time: 2024-09-30 06:00 - N/A\n",
      "Temperature: 48.92°F, Wind speed: 3.36 mph, Wind direction: S\n",
      "Precip next 1 hour: 0.0 mm, Precip next 6 hours: 0.0 mm\n",
      "\n",
      "Time: 2024-09-30 12:00 - N/A\n",
      "Temperature: 84.20°F, Wind speed: 5.59 mph, Wind direction: NNE\n",
      "Precip next 1 hour: 0.0 mm, Precip next 6 hours: 0.0 mm\n",
      "\n",
      "Time: 2024-09-30 18:00 - N/A\n",
      "Temperature: 80.06°F, Wind speed: 4.47 mph, Wind direction: NNE\n",
      "Precip next 1 hour: 0.0 mm, Precip next 6 hours: 0.0 mm\n",
      "\n",
      "Time: 2024-10-01 00:00 - N/A\n",
      "Temperature: 57.74°F, Wind speed: 4.03 mph, Wind direction: S\n",
      "Precip next 1 hour: 0.0 mm, Precip next 6 hours: 0.0 mm\n",
      "\n",
      "Time: 2024-10-01 06:00 - N/A\n",
      "Temperature: 52.52°F, Wind speed: 2.46 mph, Wind direction: SSW\n",
      "Precip next 1 hour: 0.0 mm, Precip next 6 hours: 0.0 mm\n",
      "\n",
      "Time: 2024-10-01 12:00 - N/A\n",
      "Temperature: 73.58°F, Wind speed: 3.58 mph, Wind direction: N\n",
      "Precip next 1 hour: 0.0 mm, Precip next 6 hours: 0.0 mm\n",
      "\n",
      "Time: 2024-10-01 18:00 - N/A\n",
      "Temperature: 79.70°F, Wind speed: 5.59 mph, Wind direction: NW\n",
      "Precip next 1 hour: 0.0 mm, Precip next 6 hours: 0.0 mm\n",
      "\n",
      "Time: 2024-10-02 00:00 - N/A\n",
      "Temperature: 58.28°F, Wind speed: 4.25 mph, Wind direction: SW\n",
      "Precip next 1 hour: 0.0 mm, Precip next 6 hours: 0.0 mm\n",
      "\n",
      "Time: 2024-10-02 06:00 - N/A\n",
      "Temperature: 54.50°F, Wind speed: 6.71 mph, Wind direction: S\n",
      "Precip next 1 hour: 0.0 mm, Precip next 6 hours: 0.0 mm\n",
      "\n",
      "Time: 2024-10-02 12:00 - N/A\n",
      "Temperature: 85.46°F, Wind speed: 2.46 mph, Wind direction: NNW\n",
      "Precip next 1 hour: 0.0 mm, Precip next 6 hours: 0.0 mm\n",
      "\n",
      "Time: 2024-10-02 18:00 - N/A\n",
      "Temperature: 82.94°F, Wind speed: 11.19 mph, Wind direction: N\n",
      "Precip next 1 hour: 0.0 mm, Precip next 6 hours: 0.0 mm\n",
      "\n",
      "Time: 2024-10-03 00:00 - N/A\n",
      "Temperature: 60.98°F, Wind speed: 11.86 mph, Wind direction: NNW\n",
      "Precip next 1 hour: 0.0 mm, Precip next 6 hours: 0.0 mm\n",
      "\n",
      "Time: 2024-10-03 06:00 - N/A\n",
      "Temperature: 47.12°F, Wind speed: 3.80 mph, Wind direction: NNE\n",
      "Precip next 1 hour: 0.0 mm, Precip next 6 hours: 0.0 mm\n",
      "\n",
      "Time: 2024-10-03 12:00 - N/A\n",
      "Temperature: 57.20°F, Wind speed: 4.03 mph, Wind direction: NNE\n",
      "Precip next 1 hour: 0.0 mm, Precip next 6 hours: 0.0 mm\n",
      "\n",
      "Time: 2024-10-03 18:00 - N/A\n",
      "Temperature: 60.62°F, Wind speed: 4.70 mph, Wind direction: NNE\n",
      "Precip next 1 hour: 0.0 mm, Precip next 6 hours: 0.0 mm\n",
      "\n",
      "None\n"
     ]
    }
   ],
   "source": [
    "msgs = weather_config.parse_weather_data()\n",
    "print(msgs)"
   ]
  },
  {
   "cell_type": "code",
   "execution_count": null,
   "metadata": {},
   "outputs": [],
   "source": []
  }
 ],
 "metadata": {
  "kernelspec": {
   "display_name": "Python 3",
   "language": "python",
   "name": "python3"
  },
  "language_info": {
   "codemirror_mode": {
    "name": "ipython",
    "version": 3
   },
   "file_extension": ".py",
   "mimetype": "text/x-python",
   "name": "python",
   "nbconvert_exporter": "python",
   "pygments_lexer": "ipython3",
   "version": "3.10.6"
  }
 },
 "nbformat": 4,
 "nbformat_minor": 2
}
