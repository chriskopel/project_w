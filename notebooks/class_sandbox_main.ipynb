{
 "cells": [
  {
   "cell_type": "code",
   "execution_count": 1,
   "metadata": {},
   "outputs": [],
   "source": [
    "import main_classes as mc"
   ]
  },
  {
   "cell_type": "markdown",
   "metadata": {},
   "source": [
    "# NBA"
   ]
  },
  {
   "cell_type": "code",
   "execution_count": 2,
   "metadata": {},
   "outputs": [],
   "source": [
    "nba_config = mc.nba(nba_teams = [\"Denver Nuggets\", \"Atlanta Hawks\"])"
   ]
  },
  {
   "cell_type": "code",
   "execution_count": 3,
   "metadata": {},
   "outputs": [
    {
     "data": {
      "text/plain": [
       "['APR 14, 2024: DEN @ MEM - 01:30 PM', 'APR 14, 2024: ATL @ IND - 11:00 AM']"
      ]
     },
     "execution_count": 3,
     "metadata": {},
     "output_type": "execute_result"
    }
   ],
   "source": [
    "final_dict = nba_config.dict_of_dfs\n",
    "nba_config.return_sch_msg(final_dict)"
   ]
  },
  {
   "cell_type": "markdown",
   "metadata": {},
   "source": [
    "# Football"
   ]
  },
  {
   "cell_type": "code",
   "execution_count": 2,
   "metadata": {},
   "outputs": [],
   "source": [
    "footy_config = mc.football(football_teams = ['Manchester City', 'Manchester United'])"
   ]
  },
  {
   "cell_type": "code",
   "execution_count": 3,
   "metadata": {},
   "outputs": [
    {
     "data": {
      "text/plain": [
       "['Apr 17, 2024: Real Madrid @ Manchester City (UCL) - 01:00 PM, Apr 20, 2024: Chelsea @ Manchester City (FAC) - 10:15 AM, Apr 25, 2024: Manchester City @ Brighton & Hove Albion (PRL) - 01:00 PM, Apr 28, 2024: Manchester City @ Nottingham Forest (PRL) - 09:30 AM, May 04, 2024: Wolverhampton Wanderers @ Manchester City (PRL) - 10:30 AM',\n",
       " 'Apr 21, 2024: Manchester United @ Coventry City (FAC) - 08:30 AM, Apr 24, 2024: Sheffield United @ Manchester United (PRL) - 01:00 PM, Apr 27, 2024: Burnley @ Manchester United (PRL) - 08:00 AM, May 06, 2024: Manchester United @ Crystal Palace (PRL) - 01:00 PM, May 12, 2024: Arsenal @ Manchester United (PRL) - 09:30 AM']"
      ]
     },
     "execution_count": 3,
     "metadata": {},
     "output_type": "execute_result"
    }
   ],
   "source": [
    "footy_config.get_games('next')"
   ]
  },
  {
   "cell_type": "code",
   "execution_count": 4,
   "metadata": {},
   "outputs": [
    {
     "data": {
      "text/plain": [
       "['Mar 31, 2024: Manchester City 0 - 0 Arsenal (PRL), Apr 03, 2024: Manchester City 4 - 1 Aston Villa (PRL), Apr 06, 2024: Crystal Palace 2 - 4 Manchester City (PRL), Apr 09, 2024: Real Madrid 3 - 3 Manchester City (UCL), Apr 13, 2024: Manchester City 5 - 1 Luton Town (PRL)',\n",
       " 'Mar 17, 2024: Manchester United E\\n                4 - 3\\n                E Liverpool (FAC), Mar 30, 2024: Brentford 1 - 1 Manchester United (PRL), Apr 04, 2024: Chelsea 4 - 3 Manchester United (PRL), Apr 07, 2024: Manchester United 2 - 2 Liverpool (PRL), Apr 13, 2024: AFC Bournemouth 2 - 2 Manchester United (PRL)']"
      ]
     },
     "execution_count": 4,
     "metadata": {},
     "output_type": "execute_result"
    }
   ],
   "source": [
    "footy_config.get_games('prev')"
   ]
  },
  {
   "cell_type": "code",
   "execution_count": null,
   "metadata": {},
   "outputs": [],
   "source": []
  }
 ],
 "metadata": {
  "kernelspec": {
   "display_name": "Python 3",
   "language": "python",
   "name": "python3"
  },
  "language_info": {
   "codemirror_mode": {
    "name": "ipython",
    "version": 3
   },
   "file_extension": ".py",
   "mimetype": "text/x-python",
   "name": "python",
   "nbconvert_exporter": "python",
   "pygments_lexer": "ipython3",
   "version": "3.10.6"
  }
 },
 "nbformat": 4,
 "nbformat_minor": 2
}
