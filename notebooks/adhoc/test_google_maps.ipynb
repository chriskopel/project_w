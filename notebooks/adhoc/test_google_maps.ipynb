{
 "cells": [
  {
   "cell_type": "markdown",
   "metadata": {},
   "source": [
    "# googlemaps"
   ]
  },
  {
   "cell_type": "code",
   "execution_count": 1,
   "metadata": {},
   "outputs": [],
   "source": [
    "import os\n",
    "import googlemaps\n",
    "from datetime import datetime"
   ]
  },
  {
   "cell_type": "code",
   "execution_count": 2,
   "metadata": {},
   "outputs": [],
   "source": [
    "# Connect\n",
    "gm_api_key = os.getenv('GOOGLE_API_KEY_TEMP')\n",
    "gmaps = googlemaps.Client(key=gm_api_key)"
   ]
  },
  {
   "cell_type": "code",
   "execution_count": 3,
   "metadata": {},
   "outputs": [],
   "source": [
    "# Define\n",
    "origin = 'San Diego, CA'\n",
    "destination = 'Los Angeles, CA'\n",
    "mode = 'driving'"
   ]
  },
  {
   "cell_type": "code",
   "execution_count": 4,
   "metadata": {},
   "outputs": [],
   "source": [
    "# Request the distance matrix for the given origin and destination\n",
    "distance_matrix = gmaps.distance_matrix(\n",
    "    origins=origin,\n",
    "    destinations=destination,\n",
    "    mode=mode,\n",
    "    departure_time=datetime.now()  # Use current time as departure time\n",
    ")"
   ]
  },
  {
   "cell_type": "code",
   "execution_count": 5,
   "metadata": {},
   "outputs": [
    {
     "data": {
      "text/plain": [
       "{'destination_addresses': ['Los Angeles, CA, USA'],\n",
       " 'origin_addresses': ['San Diego, CA, USA'],\n",
       " 'rows': [{'elements': [{'distance': {'text': '200 km', 'value': 200124},\n",
       "     'duration': {'text': '2 hours 2 mins', 'value': 7307},\n",
       "     'duration_in_traffic': {'text': '2 hours 37 mins', 'value': 9437},\n",
       "     'status': 'OK'}]}],\n",
       " 'status': 'OK'}"
      ]
     },
     "execution_count": 5,
     "metadata": {},
     "output_type": "execute_result"
    }
   ],
   "source": [
    "distance_matrix"
   ]
  },
  {
   "cell_type": "code",
   "execution_count": 6,
   "metadata": {},
   "outputs": [
    {
     "name": "stdout",
     "output_type": "stream",
     "text": [
      "Travel time without traffic: 2 hours 2 mins\n",
      "Travel time with traffic: 2 hours 37 mins\n"
     ]
    }
   ],
   "source": [
    "# Extract the travel time from the response\n",
    "travel_time_raw = distance_matrix['rows'][0]['elements'][0]['duration']['text']\n",
    "travel_time_traffic = distance_matrix['rows'][0]['elements'][0]['duration_in_traffic']['text']\n",
    "print(f\"Travel time without traffic: {travel_time_raw}\\nTravel time with traffic: {travel_time_traffic}\")"
   ]
  }
 ],
 "metadata": {
  "kernelspec": {
   "display_name": "Python 3",
   "language": "python",
   "name": "python3"
  },
  "language_info": {
   "codemirror_mode": {
    "name": "ipython",
    "version": 3
   },
   "file_extension": ".py",
   "mimetype": "text/x-python",
   "name": "python",
   "nbconvert_exporter": "python",
   "pygments_lexer": "ipython3",
   "version": "3.10.6"
  }
 },
 "nbformat": 4,
 "nbformat_minor": 2
}
