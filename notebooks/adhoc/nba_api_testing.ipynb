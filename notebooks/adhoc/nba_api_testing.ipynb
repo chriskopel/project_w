{
 "cells": [
  {
   "cell_type": "code",
   "execution_count": 1,
   "metadata": {},
   "outputs": [],
   "source": [
    "import numpy as np\n",
    "import pandas as pd\n",
    "pd.options.mode.chained_assignment = None  # default='warn'\n",
    "\n",
    "from datetime import datetime, timedelta\n",
    "\n",
    "from nba_api.stats.static import teams, players\n",
    "from nba_api.stats.endpoints import leaguegamefinder, playernextngames, commonallplayers"
   ]
  },
  {
   "cell_type": "markdown",
   "metadata": {},
   "source": [
    "# NBA API (nba_api)"
   ]
  },
  {
   "cell_type": "markdown",
   "metadata": {},
   "source": [
    "## search schedule by team (won't load future games)"
   ]
  },
  {
   "cell_type": "code",
   "execution_count": 2,
   "metadata": {},
   "outputs": [],
   "source": [
    "# Function to get the team ID by team name\n",
    "def get_team_id(team_name):\n",
    "    nba_teams = teams.get_teams()\n",
    "    for team in nba_teams:\n",
    "        if team['full_name'] == team_name:\n",
    "            return team['id']\n",
    "    return None"
   ]
  },
  {
   "cell_type": "code",
   "execution_count": 4,
   "metadata": {},
   "outputs": [],
   "source": [
    "# Function to get the upcoming schedule for a team\n",
    "def get_team_schedule(team_id):\n",
    "    gamefinder = leaguegamefinder.LeagueGameFinder(team_id_nullable=team_id)\n",
    "    games = gamefinder.get_data_frames()[0]\n",
    "    upcoming_games = games[games.SEASON_ID.str[-4:] == '2023'] # games[games['SEASON_ID'] == '22023']  # Replace '22023' with the desired season ID\n",
    "    return upcoming_games[['GAME_DATE', 'MATCHUP']]"
   ]
  },
  {
   "cell_type": "code",
   "execution_count": 3,
   "metadata": {},
   "outputs": [],
   "source": [
    "# Replace 'Los Angeles Lakers' with the name of the desired NBA team\n",
    "team_name = 'Denver Nuggets'\n",
    "team_id = get_team_id(team_name)"
   ]
  },
  {
   "cell_type": "code",
   "execution_count": 5,
   "metadata": {},
   "outputs": [
    {
     "data": {
      "text/html": [
       "<div>\n",
       "<style scoped>\n",
       "    .dataframe tbody tr th:only-of-type {\n",
       "        vertical-align: middle;\n",
       "    }\n",
       "\n",
       "    .dataframe tbody tr th {\n",
       "        vertical-align: top;\n",
       "    }\n",
       "\n",
       "    .dataframe thead th {\n",
       "        text-align: right;\n",
       "    }\n",
       "</style>\n",
       "<table border=\"1\" class=\"dataframe\">\n",
       "  <thead>\n",
       "    <tr style=\"text-align: right;\">\n",
       "      <th></th>\n",
       "      <th>GAME_DATE</th>\n",
       "      <th>MATCHUP</th>\n",
       "    </tr>\n",
       "  </thead>\n",
       "  <tbody>\n",
       "    <tr>\n",
       "      <th>0</th>\n",
       "      <td>2024-04-14</td>\n",
       "      <td>DEN @ MEM</td>\n",
       "    </tr>\n",
       "    <tr>\n",
       "      <th>1</th>\n",
       "      <td>2024-04-12</td>\n",
       "      <td>DEN @ SAS</td>\n",
       "    </tr>\n",
       "    <tr>\n",
       "      <th>2</th>\n",
       "      <td>2024-04-10</td>\n",
       "      <td>DEN vs. MIN</td>\n",
       "    </tr>\n",
       "    <tr>\n",
       "      <th>3</th>\n",
       "      <td>2024-04-09</td>\n",
       "      <td>DEN @ UTA</td>\n",
       "    </tr>\n",
       "    <tr>\n",
       "      <th>4</th>\n",
       "      <td>2024-04-06</td>\n",
       "      <td>DEN vs. ATL</td>\n",
       "    </tr>\n",
       "    <tr>\n",
       "      <th>...</th>\n",
       "      <td>...</td>\n",
       "      <td>...</td>\n",
       "    </tr>\n",
       "    <tr>\n",
       "      <th>87</th>\n",
       "      <td>2023-07-15</td>\n",
       "      <td>DEN @ NYK</td>\n",
       "    </tr>\n",
       "    <tr>\n",
       "      <th>88</th>\n",
       "      <td>2023-07-14</td>\n",
       "      <td>DEN vs. MIA</td>\n",
       "    </tr>\n",
       "    <tr>\n",
       "      <th>89</th>\n",
       "      <td>2023-07-12</td>\n",
       "      <td>DEN @ UTA</td>\n",
       "    </tr>\n",
       "    <tr>\n",
       "      <th>90</th>\n",
       "      <td>2023-07-09</td>\n",
       "      <td>DEN vs. ATL</td>\n",
       "    </tr>\n",
       "    <tr>\n",
       "      <th>91</th>\n",
       "      <td>2023-07-07</td>\n",
       "      <td>DEN @ MIL</td>\n",
       "    </tr>\n",
       "  </tbody>\n",
       "</table>\n",
       "<p>92 rows × 2 columns</p>\n",
       "</div>"
      ],
      "text/plain": [
       "     GAME_DATE      MATCHUP\n",
       "0   2024-04-14    DEN @ MEM\n",
       "1   2024-04-12    DEN @ SAS\n",
       "2   2024-04-10  DEN vs. MIN\n",
       "3   2024-04-09    DEN @ UTA\n",
       "4   2024-04-06  DEN vs. ATL\n",
       "..         ...          ...\n",
       "87  2023-07-15    DEN @ NYK\n",
       "88  2023-07-14  DEN vs. MIA\n",
       "89  2023-07-12    DEN @ UTA\n",
       "90  2023-07-09  DEN vs. ATL\n",
       "91  2023-07-07    DEN @ MIL\n",
       "\n",
       "[92 rows x 2 columns]"
      ]
     },
     "execution_count": 5,
     "metadata": {},
     "output_type": "execute_result"
    }
   ],
   "source": [
    "schedule = get_team_schedule(team_id)\n",
    "schedule"
   ]
  },
  {
   "cell_type": "code",
   "execution_count": 100,
   "metadata": {},
   "outputs": [
    {
     "data": {
      "text/html": [
       "<div>\n",
       "<style scoped>\n",
       "    .dataframe tbody tr th:only-of-type {\n",
       "        vertical-align: middle;\n",
       "    }\n",
       "\n",
       "    .dataframe tbody tr th {\n",
       "        vertical-align: top;\n",
       "    }\n",
       "\n",
       "    .dataframe thead th {\n",
       "        text-align: right;\n",
       "    }\n",
       "</style>\n",
       "<table border=\"1\" class=\"dataframe\">\n",
       "  <thead>\n",
       "    <tr style=\"text-align: right;\">\n",
       "      <th></th>\n",
       "      <th>PERSON_ID</th>\n",
       "      <th>DISPLAY_LAST_COMMA_FIRST</th>\n",
       "      <th>DISPLAY_FIRST_LAST</th>\n",
       "      <th>ROSTERSTATUS</th>\n",
       "      <th>FROM_YEAR</th>\n",
       "      <th>TO_YEAR</th>\n",
       "      <th>PLAYERCODE</th>\n",
       "      <th>PLAYER_SLUG</th>\n",
       "      <th>TEAM_ID</th>\n",
       "      <th>TEAM_CITY</th>\n",
       "      <th>TEAM_NAME</th>\n",
       "      <th>TEAM_ABBREVIATION</th>\n",
       "      <th>TEAM_SLUG</th>\n",
       "      <th>TEAM_CODE</th>\n",
       "      <th>GAMES_PLAYED_FLAG</th>\n",
       "      <th>OTHERLEAGUE_EXPERIENCE_CH</th>\n",
       "    </tr>\n",
       "  </thead>\n",
       "  <tbody>\n",
       "    <tr>\n",
       "      <th>0</th>\n",
       "      <td>1630173</td>\n",
       "      <td>Achiuwa, Precious</td>\n",
       "      <td>Precious Achiuwa</td>\n",
       "      <td>1</td>\n",
       "      <td>2020</td>\n",
       "      <td>2023</td>\n",
       "      <td>precious_achiuwa</td>\n",
       "      <td>precious_achiuwa</td>\n",
       "      <td>1610612752</td>\n",
       "      <td>New York</td>\n",
       "      <td>Knicks</td>\n",
       "      <td>NYK</td>\n",
       "      <td>knicks</td>\n",
       "      <td>knicks</td>\n",
       "      <td>Y</td>\n",
       "      <td>00</td>\n",
       "    </tr>\n",
       "    <tr>\n",
       "      <th>1</th>\n",
       "      <td>203500</td>\n",
       "      <td>Adams, Steven</td>\n",
       "      <td>Steven Adams</td>\n",
       "      <td>1</td>\n",
       "      <td>2013</td>\n",
       "      <td>2023</td>\n",
       "      <td>steven_adams</td>\n",
       "      <td>steven_adams</td>\n",
       "      <td>1610612745</td>\n",
       "      <td>Houston</td>\n",
       "      <td>Rockets</td>\n",
       "      <td>HOU</td>\n",
       "      <td>rockets</td>\n",
       "      <td>rockets</td>\n",
       "      <td>Y</td>\n",
       "      <td>00</td>\n",
       "    </tr>\n",
       "    <tr>\n",
       "      <th>2</th>\n",
       "      <td>1628389</td>\n",
       "      <td>Adebayo, Bam</td>\n",
       "      <td>Bam Adebayo</td>\n",
       "      <td>1</td>\n",
       "      <td>2017</td>\n",
       "      <td>2023</td>\n",
       "      <td>bam_adebayo</td>\n",
       "      <td>bam_adebayo</td>\n",
       "      <td>1610612748</td>\n",
       "      <td>Miami</td>\n",
       "      <td>Heat</td>\n",
       "      <td>MIA</td>\n",
       "      <td>heat</td>\n",
       "      <td>heat</td>\n",
       "      <td>Y</td>\n",
       "      <td>00</td>\n",
       "    </tr>\n",
       "    <tr>\n",
       "      <th>3</th>\n",
       "      <td>1630534</td>\n",
       "      <td>Agbaji, Ochai</td>\n",
       "      <td>Ochai Agbaji</td>\n",
       "      <td>1</td>\n",
       "      <td>2022</td>\n",
       "      <td>2023</td>\n",
       "      <td>ochai_agbaji</td>\n",
       "      <td>ochai_agbaji</td>\n",
       "      <td>1610612761</td>\n",
       "      <td>Toronto</td>\n",
       "      <td>Raptors</td>\n",
       "      <td>TOR</td>\n",
       "      <td>raptors</td>\n",
       "      <td>raptors</td>\n",
       "      <td>Y</td>\n",
       "      <td>00</td>\n",
       "    </tr>\n",
       "    <tr>\n",
       "      <th>4</th>\n",
       "      <td>1630583</td>\n",
       "      <td>Aldama, Santi</td>\n",
       "      <td>Santi Aldama</td>\n",
       "      <td>1</td>\n",
       "      <td>2021</td>\n",
       "      <td>2023</td>\n",
       "      <td>santi_aldama</td>\n",
       "      <td>santi_aldama</td>\n",
       "      <td>1610612763</td>\n",
       "      <td>Memphis</td>\n",
       "      <td>Grizzlies</td>\n",
       "      <td>MEM</td>\n",
       "      <td>grizzlies</td>\n",
       "      <td>grizzlies</td>\n",
       "      <td>Y</td>\n",
       "      <td>01</td>\n",
       "    </tr>\n",
       "    <tr>\n",
       "      <th>...</th>\n",
       "      <td>...</td>\n",
       "      <td>...</td>\n",
       "      <td>...</td>\n",
       "      <td>...</td>\n",
       "      <td>...</td>\n",
       "      <td>...</td>\n",
       "      <td>...</td>\n",
       "      <td>...</td>\n",
       "      <td>...</td>\n",
       "      <td>...</td>\n",
       "      <td>...</td>\n",
       "      <td>...</td>\n",
       "      <td>...</td>\n",
       "      <td>...</td>\n",
       "      <td>...</td>\n",
       "      <td>...</td>\n",
       "    </tr>\n",
       "    <tr>\n",
       "      <th>572</th>\n",
       "      <td>201152</td>\n",
       "      <td>Young, Thaddeus</td>\n",
       "      <td>Thaddeus Young</td>\n",
       "      <td>1</td>\n",
       "      <td>2007</td>\n",
       "      <td>2023</td>\n",
       "      <td>thaddeus_young</td>\n",
       "      <td>thaddeus_young</td>\n",
       "      <td>1610612756</td>\n",
       "      <td>Phoenix</td>\n",
       "      <td>Suns</td>\n",
       "      <td>PHX</td>\n",
       "      <td>suns</td>\n",
       "      <td>suns</td>\n",
       "      <td>Y</td>\n",
       "      <td>00</td>\n",
       "    </tr>\n",
       "    <tr>\n",
       "      <th>573</th>\n",
       "      <td>1629027</td>\n",
       "      <td>Young, Trae</td>\n",
       "      <td>Trae Young</td>\n",
       "      <td>1</td>\n",
       "      <td>2018</td>\n",
       "      <td>2023</td>\n",
       "      <td>trae_young</td>\n",
       "      <td>trae_young</td>\n",
       "      <td>1610612737</td>\n",
       "      <td>Atlanta</td>\n",
       "      <td>Hawks</td>\n",
       "      <td>ATL</td>\n",
       "      <td>hawks</td>\n",
       "      <td>hawks</td>\n",
       "      <td>Y</td>\n",
       "      <td>00</td>\n",
       "    </tr>\n",
       "    <tr>\n",
       "      <th>574</th>\n",
       "      <td>1630209</td>\n",
       "      <td>Yurtseven, Omer</td>\n",
       "      <td>Omer Yurtseven</td>\n",
       "      <td>1</td>\n",
       "      <td>2020</td>\n",
       "      <td>2023</td>\n",
       "      <td>omer_yurtseven</td>\n",
       "      <td>omer_yurtseven</td>\n",
       "      <td>1610612762</td>\n",
       "      <td>Utah</td>\n",
       "      <td>Jazz</td>\n",
       "      <td>UTA</td>\n",
       "      <td>jazz</td>\n",
       "      <td>jazz</td>\n",
       "      <td>Y</td>\n",
       "      <td>01</td>\n",
       "    </tr>\n",
       "    <tr>\n",
       "      <th>575</th>\n",
       "      <td>203469</td>\n",
       "      <td>Zeller, Cody</td>\n",
       "      <td>Cody Zeller</td>\n",
       "      <td>1</td>\n",
       "      <td>2013</td>\n",
       "      <td>2023</td>\n",
       "      <td>cody_zeller</td>\n",
       "      <td>cody_zeller</td>\n",
       "      <td>1610612740</td>\n",
       "      <td>New Orleans</td>\n",
       "      <td>Pelicans</td>\n",
       "      <td>NOP</td>\n",
       "      <td>pelicans</td>\n",
       "      <td>pelicans</td>\n",
       "      <td>Y</td>\n",
       "      <td>00</td>\n",
       "    </tr>\n",
       "    <tr>\n",
       "      <th>576</th>\n",
       "      <td>1627826</td>\n",
       "      <td>Zubac, Ivica</td>\n",
       "      <td>Ivica Zubac</td>\n",
       "      <td>1</td>\n",
       "      <td>2016</td>\n",
       "      <td>2023</td>\n",
       "      <td>ivica_zubac</td>\n",
       "      <td>ivica_zubac</td>\n",
       "      <td>1610612746</td>\n",
       "      <td>LA</td>\n",
       "      <td>Clippers</td>\n",
       "      <td>LAC</td>\n",
       "      <td>clippers</td>\n",
       "      <td>clippers</td>\n",
       "      <td>Y</td>\n",
       "      <td>01</td>\n",
       "    </tr>\n",
       "  </tbody>\n",
       "</table>\n",
       "<p>577 rows × 16 columns</p>\n",
       "</div>"
      ],
      "text/plain": [
       "     PERSON_ID DISPLAY_LAST_COMMA_FIRST DISPLAY_FIRST_LAST  ROSTERSTATUS  \\\n",
       "0      1630173        Achiuwa, Precious   Precious Achiuwa             1   \n",
       "1       203500            Adams, Steven       Steven Adams             1   \n",
       "2      1628389             Adebayo, Bam        Bam Adebayo             1   \n",
       "3      1630534            Agbaji, Ochai       Ochai Agbaji             1   \n",
       "4      1630583            Aldama, Santi       Santi Aldama             1   \n",
       "..         ...                      ...                ...           ...   \n",
       "572     201152          Young, Thaddeus     Thaddeus Young             1   \n",
       "573    1629027              Young, Trae         Trae Young             1   \n",
       "574    1630209          Yurtseven, Omer     Omer Yurtseven             1   \n",
       "575     203469             Zeller, Cody        Cody Zeller             1   \n",
       "576    1627826             Zubac, Ivica        Ivica Zubac             1   \n",
       "\n",
       "    FROM_YEAR TO_YEAR        PLAYERCODE       PLAYER_SLUG     TEAM_ID  \\\n",
       "0        2020    2023  precious_achiuwa  precious_achiuwa  1610612752   \n",
       "1        2013    2023      steven_adams      steven_adams  1610612745   \n",
       "2        2017    2023       bam_adebayo       bam_adebayo  1610612748   \n",
       "3        2022    2023      ochai_agbaji      ochai_agbaji  1610612761   \n",
       "4        2021    2023      santi_aldama      santi_aldama  1610612763   \n",
       "..        ...     ...               ...               ...         ...   \n",
       "572      2007    2023    thaddeus_young    thaddeus_young  1610612756   \n",
       "573      2018    2023        trae_young        trae_young  1610612737   \n",
       "574      2020    2023    omer_yurtseven    omer_yurtseven  1610612762   \n",
       "575      2013    2023       cody_zeller       cody_zeller  1610612740   \n",
       "576      2016    2023       ivica_zubac       ivica_zubac  1610612746   \n",
       "\n",
       "       TEAM_CITY  TEAM_NAME TEAM_ABBREVIATION  TEAM_SLUG  TEAM_CODE  \\\n",
       "0       New York     Knicks               NYK     knicks     knicks   \n",
       "1        Houston    Rockets               HOU    rockets    rockets   \n",
       "2          Miami       Heat               MIA       heat       heat   \n",
       "3        Toronto    Raptors               TOR    raptors    raptors   \n",
       "4        Memphis  Grizzlies               MEM  grizzlies  grizzlies   \n",
       "..           ...        ...               ...        ...        ...   \n",
       "572      Phoenix       Suns               PHX       suns       suns   \n",
       "573      Atlanta      Hawks               ATL      hawks      hawks   \n",
       "574         Utah       Jazz               UTA       jazz       jazz   \n",
       "575  New Orleans   Pelicans               NOP   pelicans   pelicans   \n",
       "576           LA   Clippers               LAC   clippers   clippers   \n",
       "\n",
       "    GAMES_PLAYED_FLAG OTHERLEAGUE_EXPERIENCE_CH  \n",
       "0                   Y                        00  \n",
       "1                   Y                        00  \n",
       "2                   Y                        00  \n",
       "3                   Y                        00  \n",
       "4                   Y                        01  \n",
       "..                ...                       ...  \n",
       "572                 Y                        00  \n",
       "573                 Y                        00  \n",
       "574                 Y                        01  \n",
       "575                 Y                        00  \n",
       "576                 Y                        01  \n",
       "\n",
       "[577 rows x 16 columns]"
      ]
     },
     "execution_count": 100,
     "metadata": {},
     "output_type": "execute_result"
    }
   ],
   "source": [
    "commonallplayers.CommonAllPlayers(is_only_current_season=1).get_data_frames()[0]"
   ]
  },
  {
   "cell_type": "code",
   "execution_count": 108,
   "metadata": {},
   "outputs": [
    {
     "data": {
      "text/plain": [
       "'Precious Achiuwa'"
      ]
     },
     "execution_count": 108,
     "metadata": {},
     "output_type": "execute_result"
    }
   ],
   "source": [
    "commonallplayers.CommonAllPlayers(is_only_current_season=1).get_data_frames()[0].DISPLAY_FIRST_LAST.iloc[0]"
   ]
  },
  {
   "cell_type": "markdown",
   "metadata": {},
   "source": [
    "## search schedule by player"
   ]
  },
  {
   "cell_type": "code",
   "execution_count": 9,
   "metadata": {},
   "outputs": [],
   "source": [
    "all_players = players.get_players()\n",
    "player_name = \"Nikola Jokic\"\n",
    "jokic = [player for player in all_players if player['full_name'] == player_name]\n",
    "jokic_id = jokic[0]['id']"
   ]
  },
  {
   "cell_type": "code",
   "execution_count": 10,
   "metadata": {},
   "outputs": [],
   "source": [
    "def get_next_n_games_for_player(player_id, num_games=5):\n",
    "    player_next_n_games = playernextngames.PlayerNextNGames(player_id=player_id)\n",
    "    player_next_n_games_df = player_next_n_games.get_data_frames()[0]\n",
    "    next_n_games = player_next_n_games_df.head(num_games)\n",
    "    return next_n_games"
   ]
  },
  {
   "cell_type": "code",
   "execution_count": 11,
   "metadata": {},
   "outputs": [
    {
     "data": {
      "text/html": [
       "<div>\n",
       "<style scoped>\n",
       "    .dataframe tbody tr th:only-of-type {\n",
       "        vertical-align: middle;\n",
       "    }\n",
       "\n",
       "    .dataframe tbody tr th {\n",
       "        vertical-align: top;\n",
       "    }\n",
       "\n",
       "    .dataframe thead th {\n",
       "        text-align: right;\n",
       "    }\n",
       "</style>\n",
       "<table border=\"1\" class=\"dataframe\">\n",
       "  <thead>\n",
       "    <tr style=\"text-align: right;\">\n",
       "      <th></th>\n",
       "      <th>GAME_ID</th>\n",
       "      <th>GAME_DATE</th>\n",
       "      <th>HOME_TEAM_ID</th>\n",
       "      <th>VISITOR_TEAM_ID</th>\n",
       "      <th>HOME_TEAM_NAME</th>\n",
       "      <th>VISITOR_TEAM_NAME</th>\n",
       "      <th>HOME_TEAM_ABBREVIATION</th>\n",
       "      <th>VISITOR_TEAM_ABBREVIATION</th>\n",
       "      <th>HOME_TEAM_NICKNAME</th>\n",
       "      <th>VISITOR_TEAM_NICKNAME</th>\n",
       "      <th>GAME_TIME</th>\n",
       "      <th>HOME_WL</th>\n",
       "      <th>VISITOR_WL</th>\n",
       "    </tr>\n",
       "  </thead>\n",
       "  <tbody>\n",
       "  </tbody>\n",
       "</table>\n",
       "</div>"
      ],
      "text/plain": [
       "Empty DataFrame\n",
       "Columns: [GAME_ID, GAME_DATE, HOME_TEAM_ID, VISITOR_TEAM_ID, HOME_TEAM_NAME, VISITOR_TEAM_NAME, HOME_TEAM_ABBREVIATION, VISITOR_TEAM_ABBREVIATION, HOME_TEAM_NICKNAME, VISITOR_TEAM_NICKNAME, GAME_TIME, HOME_WL, VISITOR_WL]\n",
       "Index: []"
      ]
     },
     "execution_count": 11,
     "metadata": {},
     "output_type": "execute_result"
    }
   ],
   "source": [
    "df_nuggets_5 = get_next_n_games_for_player(jokic_id)\n",
    "df_nuggets_5"
   ]
  },
  {
   "cell_type": "code",
   "execution_count": 81,
   "metadata": {},
   "outputs": [],
   "source": [
    "# Function to subtract two hours from the time string\n",
    "def subtract_two_hours(time_str):\n",
    "    # Convert string to datetime object\n",
    "    datetime_obj = datetime.strptime(time_str, '%I:%M %p')\n",
    "    \n",
    "    # Subtract two hours\n",
    "    datetime_obj -= timedelta(hours=2)\n",
    "    \n",
    "    # Format the datetime object as a string in '%I:%M %p' format\n",
    "    return datetime_obj.strftime('%I:%M %p')"
   ]
  },
  {
   "cell_type": "code",
   "execution_count": 84,
   "metadata": {},
   "outputs": [
    {
     "data": {
      "text/html": [
       "<div>\n",
       "<style scoped>\n",
       "    .dataframe tbody tr th:only-of-type {\n",
       "        vertical-align: middle;\n",
       "    }\n",
       "\n",
       "    .dataframe tbody tr th {\n",
       "        vertical-align: top;\n",
       "    }\n",
       "\n",
       "    .dataframe thead th {\n",
       "        text-align: right;\n",
       "    }\n",
       "</style>\n",
       "<table border=\"1\" class=\"dataframe\">\n",
       "  <thead>\n",
       "    <tr style=\"text-align: right;\">\n",
       "      <th></th>\n",
       "      <th>GAME_DATE</th>\n",
       "      <th>HOME_TEAM_ABBREVIATION</th>\n",
       "      <th>VISITOR_TEAM_ABBREVIATION</th>\n",
       "      <th>game_time_mountain</th>\n",
       "    </tr>\n",
       "  </thead>\n",
       "  <tbody>\n",
       "    <tr>\n",
       "      <th>0</th>\n",
       "      <td>MAR 29, 2024</td>\n",
       "      <td>DEN</td>\n",
       "      <td>MIN</td>\n",
       "      <td>07:00 PM</td>\n",
       "    </tr>\n",
       "    <tr>\n",
       "      <th>1</th>\n",
       "      <td>MAR 31, 2024</td>\n",
       "      <td>DEN</td>\n",
       "      <td>CLE</td>\n",
       "      <td>01:30 PM</td>\n",
       "    </tr>\n",
       "    <tr>\n",
       "      <th>2</th>\n",
       "      <td>APR 02, 2024</td>\n",
       "      <td>DEN</td>\n",
       "      <td>SAS</td>\n",
       "      <td>07:00 PM</td>\n",
       "    </tr>\n",
       "    <tr>\n",
       "      <th>3</th>\n",
       "      <td>APR 04, 2024</td>\n",
       "      <td>LAC</td>\n",
       "      <td>DEN</td>\n",
       "      <td>08:00 PM</td>\n",
       "    </tr>\n",
       "    <tr>\n",
       "      <th>4</th>\n",
       "      <td>APR 06, 2024</td>\n",
       "      <td>DEN</td>\n",
       "      <td>ATL</td>\n",
       "      <td>07:00 PM</td>\n",
       "    </tr>\n",
       "  </tbody>\n",
       "</table>\n",
       "</div>"
      ],
      "text/plain": [
       "      GAME_DATE HOME_TEAM_ABBREVIATION VISITOR_TEAM_ABBREVIATION  \\\n",
       "0  MAR 29, 2024                    DEN                       MIN   \n",
       "1  MAR 31, 2024                    DEN                       CLE   \n",
       "2  APR 02, 2024                    DEN                       SAS   \n",
       "3  APR 04, 2024                    LAC                       DEN   \n",
       "4  APR 06, 2024                    DEN                       ATL   \n",
       "\n",
       "  game_time_mountain  \n",
       "0           07:00 PM  \n",
       "1           01:30 PM  \n",
       "2           07:00 PM  \n",
       "3           08:00 PM  \n",
       "4           07:00 PM  "
      ]
     },
     "execution_count": 84,
     "metadata": {},
     "output_type": "execute_result"
    }
   ],
   "source": [
    "df_nuggets_display = df_nuggets_5[['GAME_DATE','HOME_TEAM_ABBREVIATION','VISITOR_TEAM_ABBREVIATION','GAME_TIME']]\n",
    "df_nuggets_display['game_time_mountain'] = df_nuggets_display['GAME_TIME'].apply(subtract_two_hours)\n",
    "df_nuggets_display = df_nuggets_display.drop(columns='GAME_TIME')\n",
    "df_nuggets_display"
   ]
  },
  {
   "cell_type": "code",
   "execution_count": 92,
   "metadata": {},
   "outputs": [],
   "source": [
    "df_nuggets_display['display_text'] = df_nuggets_display['VISITOR_TEAM_ABBREVIATION'] + ' @ ' + df_nuggets_display['HOME_TEAM_ABBREVIATION'] + ' - ' + df_nuggets_display['game_time_mountain']"
   ]
  },
  {
   "cell_type": "code",
   "execution_count": 109,
   "metadata": {},
   "outputs": [
    {
     "data": {
      "text/html": [
       "<div>\n",
       "<style scoped>\n",
       "    .dataframe tbody tr th:only-of-type {\n",
       "        vertical-align: middle;\n",
       "    }\n",
       "\n",
       "    .dataframe tbody tr th {\n",
       "        vertical-align: top;\n",
       "    }\n",
       "\n",
       "    .dataframe thead th {\n",
       "        text-align: right;\n",
       "    }\n",
       "</style>\n",
       "<table border=\"1\" class=\"dataframe\">\n",
       "  <thead>\n",
       "    <tr style=\"text-align: right;\">\n",
       "      <th></th>\n",
       "      <th>GAME_DATE</th>\n",
       "      <th>display_text</th>\n",
       "    </tr>\n",
       "  </thead>\n",
       "  <tbody>\n",
       "    <tr>\n",
       "      <th>0</th>\n",
       "      <td>MAR 29, 2024</td>\n",
       "      <td>MIN @ DEN - 07:00 PM</td>\n",
       "    </tr>\n",
       "    <tr>\n",
       "      <th>1</th>\n",
       "      <td>MAR 31, 2024</td>\n",
       "      <td>CLE @ DEN - 01:30 PM</td>\n",
       "    </tr>\n",
       "    <tr>\n",
       "      <th>2</th>\n",
       "      <td>APR 02, 2024</td>\n",
       "      <td>SAS @ DEN - 07:00 PM</td>\n",
       "    </tr>\n",
       "    <tr>\n",
       "      <th>3</th>\n",
       "      <td>APR 04, 2024</td>\n",
       "      <td>DEN @ LAC - 08:00 PM</td>\n",
       "    </tr>\n",
       "    <tr>\n",
       "      <th>4</th>\n",
       "      <td>APR 06, 2024</td>\n",
       "      <td>ATL @ DEN - 07:00 PM</td>\n",
       "    </tr>\n",
       "  </tbody>\n",
       "</table>\n",
       "</div>"
      ],
      "text/plain": [
       "      GAME_DATE          display_text\n",
       "0  MAR 29, 2024  MIN @ DEN - 07:00 PM\n",
       "1  MAR 31, 2024  CLE @ DEN - 01:30 PM\n",
       "2  APR 02, 2024  SAS @ DEN - 07:00 PM\n",
       "3  APR 04, 2024  DEN @ LAC - 08:00 PM\n",
       "4  APR 06, 2024  ATL @ DEN - 07:00 PM"
      ]
     },
     "execution_count": 109,
     "metadata": {},
     "output_type": "execute_result"
    }
   ],
   "source": [
    "df_nuggets_display = df_nuggets_display[['GAME_DATE','display_text']]\n",
    "df_nuggets_display"
   ]
  },
  {
   "cell_type": "code",
   "execution_count": 118,
   "metadata": {},
   "outputs": [
    {
     "data": {
      "text/plain": [
       "'MAR 29, 2024: MIN @ DEN - 07:00 PM\\nMAR 31, 2024: CLE @ DEN - 01:30 PM\\nAPR 02, 2024: SAS @ DEN - 07:00 PM\\nAPR 04, 2024: DEN @ LAC - 08:00 PM\\nAPR 06, 2024: ATL @ DEN - 07:00 PM'"
      ]
     },
     "execution_count": 118,
     "metadata": {},
     "output_type": "execute_result"
    }
   ],
   "source": [
    "# Create message from the columns\n",
    "df = df_nuggets_display.copy()\n",
    "df['display_text'] = df['GAME_DATE'] + ': ' + df['display_text']\n",
    "df = df[['display_text']]\n",
    "df.display_text.to_string(index=False)"
   ]
  },
  {
   "cell_type": "markdown",
   "metadata": {},
   "source": [
    "## Try for playoff games"
   ]
  },
  {
   "cell_type": "code",
   "execution_count": 25,
   "metadata": {},
   "outputs": [],
   "source": [
    "from nba_api.stats.endpoints import TeamGameLogs\n",
    "from nba_api.stats.library.parameters import SeasonType, SeasonTypePlayoffs"
   ]
  },
  {
   "cell_type": "code",
   "execution_count": 13,
   "metadata": {},
   "outputs": [],
   "source": [
    "# Function to get the team ID by team name\n",
    "def get_team_id(team_name):\n",
    "    nba_teams = teams.get_teams()\n",
    "    for team in nba_teams:\n",
    "        if team['full_name'] == team_name:\n",
    "            return team['id']\n",
    "    return None"
   ]
  },
  {
   "cell_type": "code",
   "execution_count": 15,
   "metadata": {},
   "outputs": [],
   "source": [
    "# Replace 'Los Angeles Lakers' with the name of the desired NBA team\n",
    "team_name = 'Denver Nuggets'\n",
    "team_id = get_team_id(team_name)\n",
    "season = '2023-24'"
   ]
  },
  {
   "cell_type": "code",
   "execution_count": 27,
   "metadata": {},
   "outputs": [],
   "source": [
    "# Fetch the game logs for the specified team and season\n",
    "team_game_logs = TeamGameLogs(\n",
    "    team_id_nullable=team_id,\n",
    "    season_nullable=season,\n",
    "    season_type_nullable=SeasonTypePlayoffs.playoffs\n",
    ")"
   ]
  },
  {
   "cell_type": "code",
   "execution_count": 28,
   "metadata": {},
   "outputs": [],
   "source": [
    "# Get the game logs as a DataFrame\n",
    "game_logs_df = team_game_logs.get_data_frames()[0]"
   ]
  },
  {
   "cell_type": "code",
   "execution_count": 29,
   "metadata": {},
   "outputs": [
    {
     "data": {
      "text/html": [
       "<div>\n",
       "<style scoped>\n",
       "    .dataframe tbody tr th:only-of-type {\n",
       "        vertical-align: middle;\n",
       "    }\n",
       "\n",
       "    .dataframe tbody tr th {\n",
       "        vertical-align: top;\n",
       "    }\n",
       "\n",
       "    .dataframe thead th {\n",
       "        text-align: right;\n",
       "    }\n",
       "</style>\n",
       "<table border=\"1\" class=\"dataframe\">\n",
       "  <thead>\n",
       "    <tr style=\"text-align: right;\">\n",
       "      <th></th>\n",
       "      <th>SEASON_YEAR</th>\n",
       "      <th>TEAM_ID</th>\n",
       "      <th>TEAM_ABBREVIATION</th>\n",
       "      <th>TEAM_NAME</th>\n",
       "      <th>GAME_ID</th>\n",
       "      <th>GAME_DATE</th>\n",
       "      <th>MATCHUP</th>\n",
       "      <th>WL</th>\n",
       "      <th>MIN</th>\n",
       "      <th>FGM</th>\n",
       "      <th>...</th>\n",
       "      <th>AST_RANK</th>\n",
       "      <th>TOV_RANK</th>\n",
       "      <th>STL_RANK</th>\n",
       "      <th>BLK_RANK</th>\n",
       "      <th>BLKA_RANK</th>\n",
       "      <th>PF_RANK</th>\n",
       "      <th>PFD_RANK</th>\n",
       "      <th>PTS_RANK</th>\n",
       "      <th>PLUS_MINUS_RANK</th>\n",
       "      <th>AVAILABLE_FLAG</th>\n",
       "    </tr>\n",
       "  </thead>\n",
       "  <tbody>\n",
       "  </tbody>\n",
       "</table>\n",
       "<p>0 rows × 57 columns</p>\n",
       "</div>"
      ],
      "text/plain": [
       "Empty DataFrame\n",
       "Columns: [SEASON_YEAR, TEAM_ID, TEAM_ABBREVIATION, TEAM_NAME, GAME_ID, GAME_DATE, MATCHUP, WL, MIN, FGM, FGA, FG_PCT, FG3M, FG3A, FG3_PCT, FTM, FTA, FT_PCT, OREB, DREB, REB, AST, TOV, STL, BLK, BLKA, PF, PFD, PTS, PLUS_MINUS, GP_RANK, W_RANK, L_RANK, W_PCT_RANK, MIN_RANK, FGM_RANK, FGA_RANK, FG_PCT_RANK, FG3M_RANK, FG3A_RANK, FG3_PCT_RANK, FTM_RANK, FTA_RANK, FT_PCT_RANK, OREB_RANK, DREB_RANK, REB_RANK, AST_RANK, TOV_RANK, STL_RANK, BLK_RANK, BLKA_RANK, PF_RANK, PFD_RANK, PTS_RANK, PLUS_MINUS_RANK, AVAILABLE_FLAG]\n",
       "Index: []\n",
       "\n",
       "[0 rows x 57 columns]"
      ]
     },
     "execution_count": 29,
     "metadata": {},
     "output_type": "execute_result"
    }
   ],
   "source": [
    "game_logs_df"
   ]
  },
  {
   "cell_type": "code",
   "execution_count": 30,
   "metadata": {},
   "outputs": [
    {
     "data": {
      "text/plain": [
       "Index(['SEASON_YEAR', 'TEAM_ID', 'TEAM_ABBREVIATION', 'TEAM_NAME', 'GAME_ID',\n",
       "       'GAME_DATE', 'MATCHUP', 'WL', 'MIN', 'FGM', 'FGA', 'FG_PCT', 'FG3M',\n",
       "       'FG3A', 'FG3_PCT', 'FTM', 'FTA', 'FT_PCT', 'OREB', 'DREB', 'REB', 'AST',\n",
       "       'TOV', 'STL', 'BLK', 'BLKA', 'PF', 'PFD', 'PTS', 'PLUS_MINUS',\n",
       "       'GP_RANK', 'W_RANK', 'L_RANK', 'W_PCT_RANK', 'MIN_RANK', 'FGM_RANK',\n",
       "       'FGA_RANK', 'FG_PCT_RANK', 'FG3M_RANK', 'FG3A_RANK', 'FG3_PCT_RANK',\n",
       "       'FTM_RANK', 'FTA_RANK', 'FT_PCT_RANK', 'OREB_RANK', 'DREB_RANK',\n",
       "       'REB_RANK', 'AST_RANK', 'TOV_RANK', 'STL_RANK', 'BLK_RANK', 'BLKA_RANK',\n",
       "       'PF_RANK', 'PFD_RANK', 'PTS_RANK', 'PLUS_MINUS_RANK', 'AVAILABLE_FLAG'],\n",
       "      dtype='object')"
      ]
     },
     "execution_count": 30,
     "metadata": {},
     "output_type": "execute_result"
    }
   ],
   "source": [
    "game_logs_df.columns"
   ]
  },
  {
   "cell_type": "markdown",
   "metadata": {},
   "source": [
    "## Scraping"
   ]
  },
  {
   "cell_type": "code",
   "execution_count": 31,
   "metadata": {},
   "outputs": [],
   "source": [
    "import requests\n",
    "from bs4 import BeautifulSoup"
   ]
  },
  {
   "cell_type": "code",
   "execution_count": 32,
   "metadata": {},
   "outputs": [],
   "source": [
    "# URL of the Denver Nuggets' schedule page\n",
    "url = 'https://www.nba.com/nuggets/schedule'"
   ]
  },
  {
   "cell_type": "code",
   "execution_count": 33,
   "metadata": {},
   "outputs": [],
   "source": [
    "# Send a GET request to the URL\n",
    "response = requests.get(url)"
   ]
  },
  {
   "cell_type": "code",
   "execution_count": 35,
   "metadata": {},
   "outputs": [
    {
     "ename": "AttributeError",
     "evalue": "'NoneType' object has no attribute 'find_all'",
     "output_type": "error",
     "traceback": [
      "\u001b[1;31m---------------------------------------------------------------------------\u001b[0m",
      "\u001b[1;31mAttributeError\u001b[0m                            Traceback (most recent call last)",
      "Input \u001b[1;32mIn [35]\u001b[0m, in \u001b[0;36m<cell line: 2>\u001b[1;34m()\u001b[0m\n\u001b[0;32m     10\u001b[0m games \u001b[38;5;241m=\u001b[39m []\n\u001b[0;32m     12\u001b[0m \u001b[38;5;66;03m# Iterate through the games in the schedule section\u001b[39;00m\n\u001b[1;32m---> 13\u001b[0m \u001b[38;5;28;01mfor\u001b[39;00m game \u001b[38;5;129;01min\u001b[39;00m \u001b[43mschedule_section\u001b[49m\u001b[38;5;241;43m.\u001b[39;49m\u001b[43mfind_all\u001b[49m(\u001b[38;5;124m'\u001b[39m\u001b[38;5;124mdiv\u001b[39m\u001b[38;5;124m'\u001b[39m, {\u001b[38;5;124m'\u001b[39m\u001b[38;5;124mclass\u001b[39m\u001b[38;5;124m'\u001b[39m: \u001b[38;5;124m'\u001b[39m\u001b[38;5;124mgame\u001b[39m\u001b[38;5;124m'\u001b[39m}):\n\u001b[0;32m     14\u001b[0m     \u001b[38;5;66;03m# Extract details of each game (adjust selectors as needed)\u001b[39;00m\n\u001b[0;32m     15\u001b[0m     date \u001b[38;5;241m=\u001b[39m game\u001b[38;5;241m.\u001b[39mfind(\u001b[38;5;124m'\u001b[39m\u001b[38;5;124mspan\u001b[39m\u001b[38;5;124m'\u001b[39m, {\u001b[38;5;124m'\u001b[39m\u001b[38;5;124mclass\u001b[39m\u001b[38;5;124m'\u001b[39m: \u001b[38;5;124m'\u001b[39m\u001b[38;5;124mdate\u001b[39m\u001b[38;5;124m'\u001b[39m})\u001b[38;5;241m.\u001b[39mtext\u001b[38;5;241m.\u001b[39mstrip()\n\u001b[0;32m     16\u001b[0m     time \u001b[38;5;241m=\u001b[39m game\u001b[38;5;241m.\u001b[39mfind(\u001b[38;5;124m'\u001b[39m\u001b[38;5;124mspan\u001b[39m\u001b[38;5;124m'\u001b[39m, {\u001b[38;5;124m'\u001b[39m\u001b[38;5;124mclass\u001b[39m\u001b[38;5;124m'\u001b[39m: \u001b[38;5;124m'\u001b[39m\u001b[38;5;124mtime\u001b[39m\u001b[38;5;124m'\u001b[39m})\u001b[38;5;241m.\u001b[39mtext\u001b[38;5;241m.\u001b[39mstrip()\n",
      "\u001b[1;31mAttributeError\u001b[0m: 'NoneType' object has no attribute 'find_all'"
     ]
    }
   ],
   "source": [
    "# Check if the request was successful\n",
    "if response.status_code == 200:\n",
    "    # Parse the HTML content using BeautifulSoup\n",
    "    soup = BeautifulSoup(response.text, 'html.parser')\n",
    "\n",
    "    # Find the schedule section (this is an example selector, adjust as needed)\n",
    "    schedule_section = soup.find('section', {'class': 'schedule'})\n",
    "\n",
    "    # Initialize an empty list to hold the games\n",
    "    games = []\n",
    "\n",
    "    # Iterate through the games in the schedule section\n",
    "    for game in schedule_section.find_all('div', {'class': 'game'}):\n",
    "        # Extract details of each game (adjust selectors as needed)\n",
    "        date = game.find('span', {'class': 'date'}).text.strip()\n",
    "        time = game.find('span', {'class': 'time'}).text.strip()\n",
    "        opponent = game.find('span', {'class': 'opponent'}).text.strip()\n",
    "        location = game.find('span', {'class': 'location'}).text.strip()\n",
    "\n",
    "        # Store the game information in a dictionary\n",
    "        game_info = {\n",
    "            'date': date,\n",
    "            'time': time,\n",
    "            'opponent': opponent,\n",
    "            'location': location,\n",
    "        }\n",
    "\n",
    "        # Add the game information to the list of games\n",
    "        games.append(game_info)\n",
    "\n",
    "    # Print the list of games\n",
    "    for game in games:\n",
    "        print(game)\n",
    "else:\n",
    "    print(f\"Failed to fetch data. Status code: {response.status_code}\")"
   ]
  },
  {
   "cell_type": "markdown",
   "metadata": {},
   "source": [
    "## thesportsdb"
   ]
  },
  {
   "cell_type": "code",
   "execution_count": null,
   "metadata": {},
   "outputs": [],
   "source": []
  }
 ],
 "metadata": {
  "kernelspec": {
   "display_name": "Python 3",
   "language": "python",
   "name": "python3"
  },
  "language_info": {
   "codemirror_mode": {
    "name": "ipython",
    "version": 3
   },
   "file_extension": ".py",
   "mimetype": "text/x-python",
   "name": "python",
   "nbconvert_exporter": "python",
   "pygments_lexer": "ipython3",
   "version": "3.10.6"
  }
 },
 "nbformat": 4,
 "nbformat_minor": 2
}
