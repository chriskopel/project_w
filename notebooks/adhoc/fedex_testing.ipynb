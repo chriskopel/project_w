{
 "cells": [
  {
   "cell_type": "code",
   "execution_count": 11,
   "metadata": {},
   "outputs": [
    {
     "ename": "ModuleNotFoundError",
     "evalue": "No module named 'fedex'",
     "output_type": "error",
     "traceback": [
      "\u001b[1;31m---------------------------------------------------------------------------\u001b[0m",
      "\u001b[1;31mModuleNotFoundError\u001b[0m                       Traceback (most recent call last)",
      "Input \u001b[1;32mIn [11]\u001b[0m, in \u001b[0;36m<cell line: 3>\u001b[1;34m()\u001b[0m\n\u001b[0;32m      1\u001b[0m \u001b[38;5;28;01mimport\u001b[39;00m \u001b[38;5;21;01mrequests\u001b[39;00m\n\u001b[0;32m      2\u001b[0m \u001b[38;5;28;01mimport\u001b[39;00m \u001b[38;5;21;01mjson\u001b[39;00m\n\u001b[1;32m----> 3\u001b[0m \u001b[38;5;28;01mfrom\u001b[39;00m \u001b[38;5;21;01mfedex\u001b[39;00m\u001b[38;5;21;01m.\u001b[39;00m\u001b[38;5;21;01mservices\u001b[39;00m\u001b[38;5;21;01m.\u001b[39;00m\u001b[38;5;21;01mtrack_service\u001b[39;00m \u001b[38;5;28;01mimport\u001b[39;00m FedexTrackRequest\n",
      "\u001b[1;31mModuleNotFoundError\u001b[0m: No module named 'fedex'"
     ]
    }
   ],
   "source": [
    "import requests\n",
    "import json"
   ]
  },
  {
   "cell_type": "markdown",
   "metadata": {},
   "source": [
    "## Scraper"
   ]
  },
  {
   "cell_type": "code",
   "execution_count": 4,
   "metadata": {},
   "outputs": [],
   "source": [
    "import requests\n",
    "from bs4 import BeautifulSoup"
   ]
  },
  {
   "cell_type": "code",
   "execution_count": 5,
   "metadata": {},
   "outputs": [],
   "source": [
    "# Define the URL with the tracking number\n",
    "tracking_url = \"https://www.fedex.com/fedextrack/?trknbr=275690845197&trkqual=12027~275690845197~FDEG\"\n",
    "\n",
    "# Make a request to the FedEx tracking page\n",
    "response = requests.get(tracking_url)"
   ]
  },
  {
   "cell_type": "code",
   "execution_count": 6,
   "metadata": {},
   "outputs": [
    {
     "data": {
      "text/plain": [
       "<Response [200]>"
      ]
     },
     "execution_count": 6,
     "metadata": {},
     "output_type": "execute_result"
    }
   ],
   "source": [
    "response"
   ]
  },
  {
   "cell_type": "code",
   "execution_count": 7,
   "metadata": {},
   "outputs": [
    {
     "name": "stdout",
     "output_type": "stream",
     "text": [
      "Could not find the estimated delivery date in the initial HTML.\n"
     ]
    }
   ],
   "source": [
    "# Check if the request was successful\n",
    "if response.status_code == 200:\n",
    "    soup = BeautifulSoup(response.text, 'html.parser')\n",
    "    \n",
    "    # Try to find the estimated delivery date in the HTML (this might not work if the data is loaded via JavaScript)\n",
    "    estimated_delivery = soup.find(text='Estimated delivery date')\n",
    "    if estimated_delivery:\n",
    "        estimated_delivery_date = estimated_delivery.find_next().text\n",
    "        print(\"Estimated Delivery Date:\", estimated_delivery_date)\n",
    "    else:\n",
    "        print(\"Could not find the estimated delivery date in the initial HTML.\")\n",
    "else:\n",
    "    print(\"Failed to retrieve the tracking page.\")"
   ]
  },
  {
   "cell_type": "code",
   "execution_count": 8,
   "metadata": {},
   "outputs": [
    {
     "data": {
      "text/plain": [
       "<!DOCTYPE html>\n",
       "<html lang=\"en\"><head>\n",
       "<meta charset=\"utf-8\"/>\n",
       "<link href=\"/images/c/s1/fx-favicon.ico\" rel=\"shortcut icon\" type=\"image/x-icon\"/>\n",
       "<title>Detailed Tracking</title>\n",
       "<base href=\"/fedextrack/\"/>\n",
       "<meta content=\"noindex\" name=\"robots\"/>\n",
       "<meta content=\"width=device-width, initial-scale=1\" name=\"viewport\"/>\n",
       "<meta content=\"Track a package\" property=\"og:title\"/>\n",
       "<meta content=\"Track and Manage FedEx Deliveries\" property=\"og:description\"/>\n",
       "<meta content=\"https://www.fedex.com/content/dam/fedex-com/ens/DetailedTracking.jpg\" property=\"og:image\"/>\n",
       "<meta content=\"https://www.fedex.com/content/dam/fedex-com/ens/DetailedTracking.jpg\" property=\"og:image:secure_url\"/>\n",
       "<meta content=\"image/jpeg\" property=\"og:image:type\"/>\n",
       "<meta content=\"1200\" property=\"og:image:width\"/>\n",
       "<meta content=\"799\" property=\"og:image:height\"/>\n",
       "<link href=\"https://www.fedex.com/etc/clientlibs/fedex/commoncore-min.css\" rel=\"stylesheet\" type=\"text/css\"/>\n",
       "<style id=\"antiClickjack\">\n",
       "    body {\n",
       "      display: none !important;\n",
       "    }\n",
       "  </style>\n",
       "<script src=\"https://www.fedex.com/assets/dd4d760272ae5cd0a0e5f981ba0cc5db9001192124f\" type=\"text/javascript\"></script><script type=\"text/javascript\">\n",
       "    if (self === top) {\n",
       "      var antiClickjack = document.getElementById(\"antiClickjack\");\n",
       "      antiClickjack.parentNode.removeChild(antiClickjack);\n",
       "    } else {\n",
       "      top.location = self.location;\n",
       "    }\n",
       "  </script>\n",
       "<script>\n",
       "    // add empty FDX.DATALAYER to support VA for GDL enabled\n",
       "    var FDX = {};\n",
       "    FDX.DATALAYER = {};\n",
       "    FDX.DATALAYER.page = {};\n",
       "  </script>\n",
       "<script>\n",
       "    //SHF Analytics Configuration\n",
       "    window.SHF_Config = window.SHF_Config || {};\n",
       "    window.SHF_Config = { analytics: \"AnalyticsNone\" }\n",
       "    \n",
       "   if (window.location.host.indexOf('localhost') === -1) {\n",
       "    if (window.location.host.indexOf('clwdev4') === 49 || window.location.host.includes('clwdev')) {\n",
       "      document.write('<script src=\"https://wwwdrt.idev.fedex.com/simplifiedhf/js/script.js\"><\\/script>');\n",
       "      document.write('<link rel=\"stylesheet\" href=\"https://wwwdrt.idev.fedex.com/simplifiedhf/css/common-core_SHF.css\"><\\/link>');\n",
       "    } else {\n",
       "      document.write('<script src=\"https://' + window.location.host + '/simplifiedhf/js/script.js\"><\\/script>');\n",
       "      document.write('<link rel=\"stylesheet\" href=\"https://' + window.location.host + '/simplifiedhf/css/common-core_SHF.css\"><\\/link>');\n",
       "    }\n",
       "  }\n",
       "    else {\n",
       "      document.write('<script src=\"https:/wwwdrt.idev.fedex.com/simplifiedhf/js/script.js\"><\\/script>');\n",
       "      document.write('<link rel=\"stylesheet\" href=\"https://wwwdrt.idev.fedex.com/simplifiedhf/css/common-core_SHF.css\"><\\/link>');\n",
       "   }\n",
       "  </script>\n",
       "<script src=\"https://www.fedex.com/etc.clientlibs/fedex-core/clientlibs/clientlib-dependencies.min.b8f3ab9da52fa710c3c99ecd530cd4a7.js\"></script>\n",
       "<!-- AppD initialization -->\n",
       "<script charset=\"UTF-8\">\n",
       "    // Load AppD scripts for test levels and production environments.\n",
       "    window.onload = function () {\n",
       "      if (window.location.host.indexOf('localhost') != 0) {\n",
       "        try {\n",
       "          window['adrum-start-time'] = new Date().getTime();\n",
       "          var hostName = window.location.host;\n",
       "          var ADRUM_PATH = '/wtrk/track/assets/appd/adrum.js';\n",
       "          (function (config) {\n",
       "            if (window.location.host.indexOf('www.fedex.com') === 0) {\n",
       "              // Prod Key\n",
       "              config.appKey = 'AD-AAB-AAZ-FRW';\n",
       "            } else {\n",
       "              // Test Key\n",
       "              config.appKey = 'AD-AAB-AAV-GAS';\n",
       "            }\n",
       "            window[\"adrum-app-key\"] = config.appKey;\n",
       "            config.adrumExtUrlHttp = 'http://' + hostName + '/wtrk/track/assets/appd';\n",
       "            config.adrumExtUrlHttps = 'https://' + hostName + '/wtrk/track/assets/appd';\n",
       "            config.beaconUrlHttp = 'http://col.eum-appdynamics.com';\n",
       "            config.beaconUrlHttps = 'https://col.eum-appdynamics.com';\n",
       "            config.xd = { enable: true };\n",
       "            config.useHTTPSAlways = true;\n",
       "            config.resTiming = { \"bufSize\": 200, \"clearResTimingOnBeaconSend\": true };\n",
       "            config.maxUrlLength = 512;\n",
       "            config.spa = { \"spa2\": true };\n",
       "            config.isZonePromise = true;\n",
       "            config.angular = true;\n",
       "            config.xhr = { \"include\": [{ \"urls\": [{ \"pattern\": \".*fedex.com\" }] }] };\n",
       "            config.enableSpeedIndex = true;\n",
       "          })(window['adrum-config'] || (window['adrum-config'] = {}));\n",
       "\n",
       "          //Load Adrum.js file \n",
       "          var adrumScript = document.createElement('script');\n",
       "\n",
       "          adrumScript.src = (('https:' === document.location.protocol) ? 'https://' : 'http://') + hostName + ADRUM_PATH;\n",
       "\n",
       "          document.body.appendChild(adrumScript);\n",
       "        }\n",
       "        catch (error) {\n",
       "\n",
       "          (console.error || console.log).call(console, error.stack || error);\n",
       "\n",
       "        }\n",
       "      }\n",
       "    };\n",
       "\n",
       "    let deviceWidth = window.matchMedia(\"( min-width: 769px )\");\n",
       "\n",
       "    if (deviceWidth.matches) {\n",
       "      //document.addEventListener('click', function (event) {document.activeElement.blur()});\n",
       "    }\n",
       "  </script>\n",
       "<!-- <link rel=\"stylesheet\" type=\"text/css\" href=\"https://www.fedex.com/etc/clientlibs/fedex/commoncore-min.css\"> -->\n",
       "<!-- <script src=https://cdn.optimizely.com/js/21023511730.js></script> -->\n",
       "<style>html{font-size:16px}@media print{body{max-width:990px!important}}</style><link href=\"/wtrk/track/styles.64e5a5a743685fb1.css\" media=\"print\" onload=\"this.media='all'\" rel=\"stylesheet\"/><noscript><link href=\"/wtrk/track/styles.64e5a5a743685fb1.css\" rel=\"stylesheet\"/></noscript></head>\n",
       "<body>\n",
       "<app-root></app-root>\n",
       "<script src=\"/wtrk/track/runtime.8ac2e2b0612425fb.js\" type=\"module\"></script><script src=\"/wtrk/track/polyfills.c740b515d69b6d52.js\" type=\"module\"></script><script defer=\"\" src=\"/wtrk/track/scripts.6beaef01779fd22a.js\"></script><script src=\"/wtrk/track/main.2ace7e2b2472bd50.js\" type=\"module\"></script>\n",
       "<script src=\"/9P6V80/lYh9Au/PSTHz8/T84sbE/3mciD2aX3NY3/ATJQAQ/dWcT/M08Jbk0\" type=\"text/javascript\"></script></body></html>"
      ]
     },
     "execution_count": 8,
     "metadata": {},
     "output_type": "execute_result"
    }
   ],
   "source": [
    "soup"
   ]
  },
  {
   "cell_type": "code",
   "execution_count": null,
   "metadata": {},
   "outputs": [],
   "source": []
  },
  {
   "cell_type": "code",
   "execution_count": null,
   "metadata": {},
   "outputs": [],
   "source": []
  },
  {
   "cell_type": "code",
   "execution_count": null,
   "metadata": {},
   "outputs": [],
   "source": []
  },
  {
   "cell_type": "markdown",
   "metadata": {},
   "source": [
    "## Failed fedex api"
   ]
  },
  {
   "cell_type": "code",
   "execution_count": 15,
   "metadata": {},
   "outputs": [],
   "source": [
    "import requests\n",
    "import json"
   ]
  },
  {
   "cell_type": "code",
   "execution_count": 10,
   "metadata": {},
   "outputs": [],
   "source": [
    "# FedEx API credentials\n",
    "API_KEY = 'l782435ff01ac94b73a7f00d251642534e'\n",
    "API_SECRET_KEY = '7f988b99496b4439a6e2a468f41453b2'\n",
    "ACCOUNT_NUMBER = '740561073'\n",
    "test_url = 'https://apis-sandbox.fedex.com'\n",
    "tracking_number = 275690845197"
   ]
  },
  {
   "cell_type": "code",
   "execution_count": 11,
   "metadata": {},
   "outputs": [],
   "source": [
    "# Prepare the request payload\n",
    "payload = {\n",
    "    \"trackingInfo\": [\n",
    "        {\n",
    "            \"trackingNumberInfo\": {\n",
    "                \"trackingNumber\": tracking_number\n",
    "            }\n",
    "        }\n",
    "    ]\n",
    "}"
   ]
  },
  {
   "cell_type": "code",
   "execution_count": 12,
   "metadata": {},
   "outputs": [],
   "source": [
    "# Prepare the request headers\n",
    "headers = {\n",
    "    'Content-Type': 'application/json',\n",
    "    'X-locale': 'en_US',\n",
    "    'Authorization': 'Bearer '\n",
    "}"
   ]
  },
  {
   "cell_type": "code",
   "execution_count": 14,
   "metadata": {},
   "outputs": [
    {
     "data": {
      "text/plain": [
       "<Response [404]>"
      ]
     },
     "execution_count": 14,
     "metadata": {},
     "output_type": "execute_result"
    }
   ],
   "source": [
    "# Make the request to the FedEx API\n",
    "response =  requests.post(test_url, data=payload, headers=headers) #  requests.post(test_url, headers=headers, data=json.dumps(payload))\n",
    "response"
   ]
  },
  {
   "cell_type": "code",
   "execution_count": 9,
   "metadata": {},
   "outputs": [
    {
     "name": "stdout",
     "output_type": "stream",
     "text": [
      "Failed to retrieve tracking information: 404\n",
      "{\"transactionId\": \"13332d7b-1299-4993-96d1-830b8c293581\",\"errors\":[{\"code\":\"NOT.FOUND.ERROR\",\"message\":\"The resource you requested is no longer available. Please modify your request and try again.\"}]}\n"
     ]
    }
   ],
   "source": [
    "# Check if the request was successful\n",
    "if response.status_code == 200:\n",
    "    # Parse the response\n",
    "    tracking_info = response.json()\n",
    "    print(json.dumps(tracking_info, indent=4))\n",
    "else:\n",
    "    print(f\"Failed to retrieve tracking information: {response.status_code}\")\n",
    "    print(response.text)"
   ]
  },
  {
   "cell_type": "code",
   "execution_count": null,
   "metadata": {},
   "outputs": [],
   "source": []
  },
  {
   "cell_type": "code",
   "execution_count": null,
   "metadata": {},
   "outputs": [],
   "source": []
  },
  {
   "cell_type": "markdown",
   "metadata": {},
   "source": [
    "## Rd 2 Fedex"
   ]
  },
  {
   "cell_type": "code",
   "execution_count": 16,
   "metadata": {},
   "outputs": [],
   "source": [
    "import requests\n",
    "import base64"
   ]
  },
  {
   "cell_type": "code",
   "execution_count": 17,
   "metadata": {},
   "outputs": [],
   "source": [
    "# Base64 encode the API key and secret key\n",
    "encoded_credentials = base64.b64encode(f\"{API_KEY}:{API_SECRET_KEY}\".encode()).decode()"
   ]
  },
  {
   "cell_type": "code",
   "execution_count": 19,
   "metadata": {},
   "outputs": [],
   "source": [
    "# OAuth token endpoint\n",
    "auth_url = \"https://apis-sandbox.fedex.com/oauth/token\"\n",
    "\n",
    "# Request headers\n",
    "auth_headers = {\n",
    "    'Content-Type': 'application/x-www-form-urlencoded',\n",
    "    'Authorization': f'Basic {encoded_credentials}'\n",
    "}\n",
    "\n",
    "# Request payload\n",
    "auth_payload = {\n",
    "    'grant_type': 'client_credentials'\n",
    "}"
   ]
  },
  {
   "cell_type": "code",
   "execution_count": 22,
   "metadata": {},
   "outputs": [
    {
     "data": {
      "text/plain": [
       "<Response [400]>"
      ]
     },
     "execution_count": 22,
     "metadata": {},
     "output_type": "execute_result"
    }
   ],
   "source": [
    "# Make the request to get the OAuth token\n",
    "auth_response = requests.post(auth_url, headers=auth_headers, data=auth_payload)\n",
    "auth_response"
   ]
  },
  {
   "cell_type": "code",
   "execution_count": 21,
   "metadata": {},
   "outputs": [
    {
     "name": "stdout",
     "output_type": "stream",
     "text": [
      "Failed to obtain access token: 400\n",
      "\n"
     ]
    }
   ],
   "source": [
    "# Check if the request was successful\n",
    "if auth_response.status_code == 200:\n",
    "    auth_data = auth_response.json()\n",
    "    access_token = auth_data['access_token']\n",
    "    print(f\"Access Token: {access_token}\")\n",
    "else:\n",
    "    print(f\"Failed to obtain access token: {auth_response.status_code}\")\n",
    "    print(auth_response.text)"
   ]
  },
  {
   "cell_type": "code",
   "execution_count": null,
   "metadata": {},
   "outputs": [],
   "source": []
  }
 ],
 "metadata": {
  "kernelspec": {
   "display_name": "Python 3",
   "language": "python",
   "name": "python3"
  },
  "language_info": {
   "codemirror_mode": {
    "name": "ipython",
    "version": 3
   },
   "file_extension": ".py",
   "mimetype": "text/x-python",
   "name": "python",
   "nbconvert_exporter": "python",
   "pygments_lexer": "ipython3",
   "version": "3.10.6"
  }
 },
 "nbformat": 4,
 "nbformat_minor": 2
}
