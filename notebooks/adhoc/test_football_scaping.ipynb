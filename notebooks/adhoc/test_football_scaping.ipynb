{
 "cells": [
  {
   "cell_type": "markdown",
   "metadata": {},
   "source": [
    "## Load data"
   ]
  },
  {
   "cell_type": "code",
   "execution_count": 1,
   "metadata": {},
   "outputs": [],
   "source": [
    "import pandas as pd"
   ]
  },
  {
   "cell_type": "code",
   "execution_count": 7,
   "metadata": {},
   "outputs": [
    {
     "data": {
      "text/html": [
       "<div>\n",
       "<style scoped>\n",
       "    .dataframe tbody tr th:only-of-type {\n",
       "        vertical-align: middle;\n",
       "    }\n",
       "\n",
       "    .dataframe tbody tr th {\n",
       "        vertical-align: top;\n",
       "    }\n",
       "\n",
       "    .dataframe thead th {\n",
       "        text-align: right;\n",
       "    }\n",
       "</style>\n",
       "<table border=\"1\" class=\"dataframe\">\n",
       "  <thead>\n",
       "    <tr style=\"text-align: right;\">\n",
       "      <th></th>\n",
       "      <th>team</th>\n",
       "      <th>league</th>\n",
       "      <th>country</th>\n",
       "      <th>url</th>\n",
       "    </tr>\n",
       "  </thead>\n",
       "  <tbody>\n",
       "    <tr>\n",
       "      <th>0</th>\n",
       "      <td>Arsenal</td>\n",
       "      <td>Premier League</td>\n",
       "      <td>England</td>\n",
       "      <td>https://ng.soccerway.com//teams/england/arsena...</td>\n",
       "    </tr>\n",
       "    <tr>\n",
       "      <th>1</th>\n",
       "      <td>Manchester City</td>\n",
       "      <td>Premier League</td>\n",
       "      <td>England</td>\n",
       "      <td>https://ng.soccerway.com//teams/england/manche...</td>\n",
       "    </tr>\n",
       "    <tr>\n",
       "      <th>2</th>\n",
       "      <td>Newcastle United</td>\n",
       "      <td>Premier League</td>\n",
       "      <td>England</td>\n",
       "      <td>https://ng.soccerway.com//teams/england/newcas...</td>\n",
       "    </tr>\n",
       "    <tr>\n",
       "      <th>3</th>\n",
       "      <td>Manchester United</td>\n",
       "      <td>Premier League</td>\n",
       "      <td>England</td>\n",
       "      <td>https://ng.soccerway.com//teams/england/manche...</td>\n",
       "    </tr>\n",
       "    <tr>\n",
       "      <th>4</th>\n",
       "      <td>Tottenham Hotspur</td>\n",
       "      <td>Premier League</td>\n",
       "      <td>England</td>\n",
       "      <td>https://ng.soccerway.com//teams/england/totten...</td>\n",
       "    </tr>\n",
       "    <tr>\n",
       "      <th>...</th>\n",
       "      <td>...</td>\n",
       "      <td>...</td>\n",
       "      <td>...</td>\n",
       "      <td>...</td>\n",
       "    </tr>\n",
       "    <tr>\n",
       "      <th>93</th>\n",
       "      <td>Getafe</td>\n",
       "      <td>La Liga</td>\n",
       "      <td>Spain</td>\n",
       "      <td>https://ng.soccerway.com//teams/spain/getafe-c...</td>\n",
       "    </tr>\n",
       "    <tr>\n",
       "      <th>94</th>\n",
       "      <td>Celta Vigo</td>\n",
       "      <td>La Liga</td>\n",
       "      <td>Spain</td>\n",
       "      <td>https://ng.soccerway.com//teams/spain/real-clu...</td>\n",
       "    </tr>\n",
       "    <tr>\n",
       "      <th>95</th>\n",
       "      <td>Real Valladolid</td>\n",
       "      <td>La Liga</td>\n",
       "      <td>Spain</td>\n",
       "      <td>https://ng.soccerway.com//teams/spain/real-val...</td>\n",
       "    </tr>\n",
       "    <tr>\n",
       "      <th>96</th>\n",
       "      <td>Cadiz</td>\n",
       "      <td>La Liga</td>\n",
       "      <td>Spain</td>\n",
       "      <td>https://ng.soccerway.com//teams/spain/cadiz-cl...</td>\n",
       "    </tr>\n",
       "    <tr>\n",
       "      <th>97</th>\n",
       "      <td>Elche</td>\n",
       "      <td>La Liga</td>\n",
       "      <td>Spain</td>\n",
       "      <td>https://ng.soccerway.com//teams/spain/elche-cl...</td>\n",
       "    </tr>\n",
       "  </tbody>\n",
       "</table>\n",
       "<p>98 rows × 4 columns</p>\n",
       "</div>"
      ],
      "text/plain": [
       "                 team          league  country  \\\n",
       "0             Arsenal  Premier League  England   \n",
       "1     Manchester City  Premier League  England   \n",
       "2    Newcastle United  Premier League  England   \n",
       "3   Manchester United  Premier League  England   \n",
       "4   Tottenham Hotspur  Premier League  England   \n",
       "..                ...             ...      ...   \n",
       "93             Getafe         La Liga    Spain   \n",
       "94         Celta Vigo         La Liga    Spain   \n",
       "95    Real Valladolid         La Liga    Spain   \n",
       "96              Cadiz         La Liga    Spain   \n",
       "97              Elche         La Liga    Spain   \n",
       "\n",
       "                                                  url  \n",
       "0   https://ng.soccerway.com//teams/england/arsena...  \n",
       "1   https://ng.soccerway.com//teams/england/manche...  \n",
       "2   https://ng.soccerway.com//teams/england/newcas...  \n",
       "3   https://ng.soccerway.com//teams/england/manche...  \n",
       "4   https://ng.soccerway.com//teams/england/totten...  \n",
       "..                                                ...  \n",
       "93  https://ng.soccerway.com//teams/spain/getafe-c...  \n",
       "94  https://ng.soccerway.com//teams/spain/real-clu...  \n",
       "95  https://ng.soccerway.com//teams/spain/real-val...  \n",
       "96  https://ng.soccerway.com//teams/spain/cadiz-cl...  \n",
       "97  https://ng.soccerway.com//teams/spain/elche-cl...  \n",
       "\n",
       "[98 rows x 4 columns]"
      ]
     },
     "execution_count": 7,
     "metadata": {},
     "output_type": "execute_result"
    }
   ],
   "source": [
    "football_data_path = r\"C:\\Users\\Owner\\Documents\\Data Projects\\GitHub\\Apps\\project_w\\data\\football_data.csv\"\n",
    "df_footie = pd.read_csv(football_data_path)\n",
    "df_footie"
   ]
  },
  {
   "cell_type": "markdown",
   "metadata": {},
   "source": [
    "## Scape"
   ]
  },
  {
   "cell_type": "code",
   "execution_count": 6,
   "metadata": {},
   "outputs": [],
   "source": [
    "import pandas as pd\n",
    "import numpy as np\n",
    "import requests\n",
    "from bs4 import BeautifulSoup\n",
    "# import streamlit as st\n",
    "# import json"
   ]
  },
  {
   "cell_type": "code",
   "execution_count": 69,
   "metadata": {},
   "outputs": [],
   "source": [
    "agent = 'Mozilla/5.0 (Windows NT 10.0; Windows; x64) AppleWebKit/537.36 (KHTML, like Gecko) Chrome/103.0.5060.114 Safari/537.36'\n",
    "url = df_footie[df_footie['team'] == 'Manchester United'].url.values[0]\n",
    "response = requests.get(url, headers={'User-Agent': agent})"
   ]
  },
  {
   "cell_type": "code",
   "execution_count": 70,
   "metadata": {},
   "outputs": [],
   "source": [
    "soup = BeautifulSoup(response.text, 'html.parser')\n",
    "table = soup.find_all('table', class_='matches')\n",
    "dates = [row.text for row in table[0].find_all('td', class_=\"full-date\")]\n",
    "leagues = [row.text.strip() for row in table[0].find_all('td', class_=\"competition\")]\n",
    "homes = [row.text.strip() for row in table[0].find_all('td', class_=\"team\")[::2]]\n",
    "aways = [row.text.strip() for row in table[0].find_all('td', class_=\"team\")[1::2]]\n",
    "scores = [row.text.strip() for row in table[0].find_all('td', class_=\"score-time\")]\n",
    "\n",
    "# Create Empty dataframe\n",
    "df_fixtures = pd.DataFrame(\n",
    "    {\n",
    "        'Date': dates,\n",
    "        'League': leagues,\n",
    "        'Home team': homes,\n",
    "        'Time': scores,\n",
    "        'Away team': aways\n",
    "    }\n",
    ")\n",
    "\n",
    "df_fixtures_prev5 = df_fixtures[:5]\n",
    "df_fixtures_next5 = df_fixtures[-5:] "
   ]
  },
  {
   "cell_type": "code",
   "execution_count": 72,
   "metadata": {},
   "outputs": [
    {
     "data": {
      "text/html": [
       "<div>\n",
       "<style scoped>\n",
       "    .dataframe tbody tr th:only-of-type {\n",
       "        vertical-align: middle;\n",
       "    }\n",
       "\n",
       "    .dataframe tbody tr th {\n",
       "        vertical-align: top;\n",
       "    }\n",
       "\n",
       "    .dataframe thead th {\n",
       "        text-align: right;\n",
       "    }\n",
       "</style>\n",
       "<table border=\"1\" class=\"dataframe\">\n",
       "  <thead>\n",
       "    <tr style=\"text-align: right;\">\n",
       "      <th></th>\n",
       "      <th>Date</th>\n",
       "      <th>League</th>\n",
       "      <th>Home team</th>\n",
       "      <th>Time</th>\n",
       "      <th>Away team</th>\n",
       "    </tr>\n",
       "  </thead>\n",
       "  <tbody>\n",
       "    <tr>\n",
       "      <th>0</th>\n",
       "      <td>17/03/24</td>\n",
       "      <td>FAC</td>\n",
       "      <td>Manchester United</td>\n",
       "      <td>E\\n                4 - 3\\n                E</td>\n",
       "      <td>Liverpool</td>\n",
       "    </tr>\n",
       "    <tr>\n",
       "      <th>1</th>\n",
       "      <td>30/03/24</td>\n",
       "      <td>PRL</td>\n",
       "      <td>Brentford</td>\n",
       "      <td>1 - 1</td>\n",
       "      <td>Manchester United</td>\n",
       "    </tr>\n",
       "    <tr>\n",
       "      <th>2</th>\n",
       "      <td>04/04/24</td>\n",
       "      <td>PRL</td>\n",
       "      <td>Chelsea</td>\n",
       "      <td>4 - 3</td>\n",
       "      <td>Manchester United</td>\n",
       "    </tr>\n",
       "    <tr>\n",
       "      <th>3</th>\n",
       "      <td>07/04/24</td>\n",
       "      <td>PRL</td>\n",
       "      <td>Manchester United</td>\n",
       "      <td>2 - 2</td>\n",
       "      <td>Liverpool</td>\n",
       "    </tr>\n",
       "    <tr>\n",
       "      <th>4</th>\n",
       "      <td>13/04/24</td>\n",
       "      <td>PRL</td>\n",
       "      <td>AFC Bournemouth</td>\n",
       "      <td>2 - 2</td>\n",
       "      <td>Manchester United</td>\n",
       "    </tr>\n",
       "  </tbody>\n",
       "</table>\n",
       "</div>"
      ],
      "text/plain": [
       "       Date League          Home team  \\\n",
       "0  17/03/24    FAC  Manchester United   \n",
       "1  30/03/24    PRL          Brentford   \n",
       "2  04/04/24    PRL            Chelsea   \n",
       "3  07/04/24    PRL  Manchester United   \n",
       "4  13/04/24    PRL    AFC Bournemouth   \n",
       "\n",
       "                                          Time          Away team  \n",
       "0  E\\n                4 - 3\\n                E          Liverpool  \n",
       "1                                        1 - 1  Manchester United  \n",
       "2                                        4 - 3  Manchester United  \n",
       "3                                        2 - 2          Liverpool  \n",
       "4                                        2 - 2  Manchester United  "
      ]
     },
     "execution_count": 72,
     "metadata": {},
     "output_type": "execute_result"
    }
   ],
   "source": [
    "df_fixtures_prev5"
   ]
  },
  {
   "cell_type": "code",
   "execution_count": 71,
   "metadata": {},
   "outputs": [
    {
     "data": {
      "text/html": [
       "<div>\n",
       "<style scoped>\n",
       "    .dataframe tbody tr th:only-of-type {\n",
       "        vertical-align: middle;\n",
       "    }\n",
       "\n",
       "    .dataframe tbody tr th {\n",
       "        vertical-align: top;\n",
       "    }\n",
       "\n",
       "    .dataframe thead th {\n",
       "        text-align: right;\n",
       "    }\n",
       "</style>\n",
       "<table border=\"1\" class=\"dataframe\">\n",
       "  <thead>\n",
       "    <tr style=\"text-align: right;\">\n",
       "      <th></th>\n",
       "      <th>Date</th>\n",
       "      <th>League</th>\n",
       "      <th>Home team</th>\n",
       "      <th>Time</th>\n",
       "      <th>Away team</th>\n",
       "    </tr>\n",
       "  </thead>\n",
       "  <tbody>\n",
       "    <tr>\n",
       "      <th>5</th>\n",
       "      <td>21/04/24</td>\n",
       "      <td>FAC</td>\n",
       "      <td>Coventry City</td>\n",
       "      <td>16 : 30</td>\n",
       "      <td>Manchester United</td>\n",
       "    </tr>\n",
       "    <tr>\n",
       "      <th>6</th>\n",
       "      <td>24/04/24</td>\n",
       "      <td>PRL</td>\n",
       "      <td>Manchester United</td>\n",
       "      <td>21 : 00</td>\n",
       "      <td>Sheffield United</td>\n",
       "    </tr>\n",
       "    <tr>\n",
       "      <th>7</th>\n",
       "      <td>27/04/24</td>\n",
       "      <td>PRL</td>\n",
       "      <td>Manchester United</td>\n",
       "      <td>16 : 00</td>\n",
       "      <td>Burnley</td>\n",
       "    </tr>\n",
       "    <tr>\n",
       "      <th>8</th>\n",
       "      <td>06/05/24</td>\n",
       "      <td>PRL</td>\n",
       "      <td>Crystal Palace</td>\n",
       "      <td>21 : 00</td>\n",
       "      <td>Manchester United</td>\n",
       "    </tr>\n",
       "    <tr>\n",
       "      <th>9</th>\n",
       "      <td>12/05/24</td>\n",
       "      <td>PRL</td>\n",
       "      <td>Manchester United</td>\n",
       "      <td>17 : 30</td>\n",
       "      <td>Arsenal</td>\n",
       "    </tr>\n",
       "  </tbody>\n",
       "</table>\n",
       "</div>"
      ],
      "text/plain": [
       "       Date League          Home team     Time          Away team\n",
       "5  21/04/24    FAC      Coventry City  16 : 30  Manchester United\n",
       "6  24/04/24    PRL  Manchester United  21 : 00   Sheffield United\n",
       "7  27/04/24    PRL  Manchester United  16 : 00            Burnley\n",
       "8  06/05/24    PRL     Crystal Palace  21 : 00  Manchester United\n",
       "9  12/05/24    PRL  Manchester United  17 : 30            Arsenal"
      ]
     },
     "execution_count": 71,
     "metadata": {},
     "output_type": "execute_result"
    }
   ],
   "source": [
    "df_fixtures_next5"
   ]
  },
  {
   "cell_type": "code",
   "execution_count": 39,
   "metadata": {},
   "outputs": [],
   "source": [
    "from datetime import datetime, timedelta\n",
    "\n",
    "# Function to subtract two hours from the time string\n",
    "def subtract_n_hours(time_str, n):\n",
    "\n",
    "    # Remove empty spaces\n",
    "    time_str = time_str.replace(' ', '')\n",
    "\n",
    "    # Convert string to datetime object\n",
    "    datetime_obj = datetime.strptime(time_str, '%H:%M')\n",
    "    \n",
    "    # Subtract n hours\n",
    "    datetime_obj -= timedelta(hours=n)\n",
    "    \n",
    "    # Format the datetime object as a string in '%I:%M %p' format\n",
    "    return datetime_obj.strftime('%I:%M %p')"
   ]
  },
  {
   "cell_type": "code",
   "execution_count": 43,
   "metadata": {},
   "outputs": [
    {
     "name": "stderr",
     "output_type": "stream",
     "text": [
      "C:\\Users\\Owner\\AppData\\Local\\Temp\\ipykernel_57356\\2313276544.py:1: SettingWithCopyWarning: \n",
      "A value is trying to be set on a copy of a slice from a DataFrame.\n",
      "Try using .loc[row_indexer,col_indexer] = value instead\n",
      "\n",
      "See the caveats in the documentation: https://pandas.pydata.org/pandas-docs/stable/user_guide/indexing.html#returning-a-view-versus-a-copy\n",
      "  df_fixtures_next5['Time'] = df_fixtures_next5['Time'].apply(lambda x: subtract_n_hours(x, 8))\n"
     ]
    }
   ],
   "source": [
    "df_fixtures_next5['Time'] = df_fixtures_next5['Time'].apply(lambda x: subtract_n_hours(x, 8))"
   ]
  },
  {
   "cell_type": "code",
   "execution_count": 45,
   "metadata": {},
   "outputs": [],
   "source": [
    "# Define the function to convert the date string\n",
    "def convert_date(date_str):\n",
    "    # Define the input format of the given date string\n",
    "    input_format = '%d/%m/%y'\n",
    "    \n",
    "    # Define the desired output format for the date\n",
    "    output_format = '%b %d, %Y'\n",
    "    \n",
    "    # Parse the date string using the input format\n",
    "    date_obj = datetime.strptime(date_str, input_format)\n",
    "    \n",
    "    # Format the date object according to the desired output format\n",
    "    formatted_date = date_obj.strftime(output_format)\n",
    "    \n",
    "    # Return the formatted date\n",
    "    return formatted_date"
   ]
  },
  {
   "cell_type": "code",
   "execution_count": 47,
   "metadata": {},
   "outputs": [
    {
     "name": "stderr",
     "output_type": "stream",
     "text": [
      "C:\\Users\\Owner\\AppData\\Local\\Temp\\ipykernel_57356\\2824450436.py:1: SettingWithCopyWarning: \n",
      "A value is trying to be set on a copy of a slice from a DataFrame.\n",
      "Try using .loc[row_indexer,col_indexer] = value instead\n",
      "\n",
      "See the caveats in the documentation: https://pandas.pydata.org/pandas-docs/stable/user_guide/indexing.html#returning-a-view-versus-a-copy\n",
      "  df_fixtures_next5['Date'] = df_fixtures_next5['Date'].apply(convert_date)\n"
     ]
    }
   ],
   "source": [
    "df_fixtures_next5['Date'] = df_fixtures_next5['Date'].apply(convert_date)"
   ]
  },
  {
   "cell_type": "code",
   "execution_count": 48,
   "metadata": {},
   "outputs": [
    {
     "data": {
      "text/html": [
       "<div>\n",
       "<style scoped>\n",
       "    .dataframe tbody tr th:only-of-type {\n",
       "        vertical-align: middle;\n",
       "    }\n",
       "\n",
       "    .dataframe tbody tr th {\n",
       "        vertical-align: top;\n",
       "    }\n",
       "\n",
       "    .dataframe thead th {\n",
       "        text-align: right;\n",
       "    }\n",
       "</style>\n",
       "<table border=\"1\" class=\"dataframe\">\n",
       "  <thead>\n",
       "    <tr style=\"text-align: right;\">\n",
       "      <th></th>\n",
       "      <th>Date</th>\n",
       "      <th>League</th>\n",
       "      <th>Home team</th>\n",
       "      <th>Time</th>\n",
       "      <th>Away team</th>\n",
       "    </tr>\n",
       "  </thead>\n",
       "  <tbody>\n",
       "    <tr>\n",
       "      <th>5</th>\n",
       "      <td>Apr 17, 2024</td>\n",
       "      <td>UCL</td>\n",
       "      <td>Manchester City</td>\n",
       "      <td>01:00 PM</td>\n",
       "      <td>Real Madrid</td>\n",
       "    </tr>\n",
       "    <tr>\n",
       "      <th>6</th>\n",
       "      <td>Apr 20, 2024</td>\n",
       "      <td>FAC</td>\n",
       "      <td>Manchester City</td>\n",
       "      <td>10:15 AM</td>\n",
       "      <td>Chelsea</td>\n",
       "    </tr>\n",
       "    <tr>\n",
       "      <th>7</th>\n",
       "      <td>Apr 25, 2024</td>\n",
       "      <td>PRL</td>\n",
       "      <td>Brighton &amp; Hove Albion</td>\n",
       "      <td>01:00 PM</td>\n",
       "      <td>Manchester City</td>\n",
       "    </tr>\n",
       "    <tr>\n",
       "      <th>8</th>\n",
       "      <td>Apr 28, 2024</td>\n",
       "      <td>PRL</td>\n",
       "      <td>Nottingham Forest</td>\n",
       "      <td>09:30 AM</td>\n",
       "      <td>Manchester City</td>\n",
       "    </tr>\n",
       "    <tr>\n",
       "      <th>9</th>\n",
       "      <td>May 04, 2024</td>\n",
       "      <td>PRL</td>\n",
       "      <td>Manchester City</td>\n",
       "      <td>10:30 AM</td>\n",
       "      <td>Wolverhampton Wanderers</td>\n",
       "    </tr>\n",
       "  </tbody>\n",
       "</table>\n",
       "</div>"
      ],
      "text/plain": [
       "           Date League               Home team      Time  \\\n",
       "5  Apr 17, 2024    UCL         Manchester City  01:00 PM   \n",
       "6  Apr 20, 2024    FAC         Manchester City  10:15 AM   \n",
       "7  Apr 25, 2024    PRL  Brighton & Hove Albion  01:00 PM   \n",
       "8  Apr 28, 2024    PRL       Nottingham Forest  09:30 AM   \n",
       "9  May 04, 2024    PRL         Manchester City  10:30 AM   \n",
       "\n",
       "                 Away team  \n",
       "5              Real Madrid  \n",
       "6                  Chelsea  \n",
       "7          Manchester City  \n",
       "8          Manchester City  \n",
       "9  Wolverhampton Wanderers  "
      ]
     },
     "execution_count": 48,
     "metadata": {},
     "output_type": "execute_result"
    }
   ],
   "source": [
    "df_fixtures_next5"
   ]
  },
  {
   "cell_type": "code",
   "execution_count": null,
   "metadata": {},
   "outputs": [],
   "source": [
    "df['GAME_DATE'] + ': ' + df['VISITOR_TEAM_ABBREVIATION'] + ' @ ' + df['HOME_TEAM_ABBREVIATION'] + ' - ' + df['game_time_mountain']"
   ]
  },
  {
   "cell_type": "code",
   "execution_count": 52,
   "metadata": {},
   "outputs": [
    {
     "name": "stderr",
     "output_type": "stream",
     "text": [
      "C:\\Users\\Owner\\AppData\\Local\\Temp\\ipykernel_57356\\1367554240.py:1: SettingWithCopyWarning: \n",
      "A value is trying to be set on a copy of a slice from a DataFrame.\n",
      "Try using .loc[row_indexer,col_indexer] = value instead\n",
      "\n",
      "See the caveats in the documentation: https://pandas.pydata.org/pandas-docs/stable/user_guide/indexing.html#returning-a-view-versus-a-copy\n",
      "  df_fixtures_next5['display_msg'] = df_fixtures_next5['Date'] + ': ' + df_fixtures_next5['Away team'] + ' @ ' + df_fixtures_next5['Home team'] + ' - ' + df_fixtures_next5['Time']\n"
     ]
    }
   ],
   "source": [
    "df_fixtures_next5['display_msg'] = df_fixtures_next5['Date'] + ': ' + df_fixtures_next5['Away team'] + ' @ ' + df_fixtures_next5['Home team'] + ' - ' + df_fixtures_next5['Time']"
   ]
  },
  {
   "cell_type": "code",
   "execution_count": 64,
   "metadata": {},
   "outputs": [
    {
     "data": {
      "text/html": [
       "<div>\n",
       "<style scoped>\n",
       "    .dataframe tbody tr th:only-of-type {\n",
       "        vertical-align: middle;\n",
       "    }\n",
       "\n",
       "    .dataframe tbody tr th {\n",
       "        vertical-align: top;\n",
       "    }\n",
       "\n",
       "    .dataframe thead th {\n",
       "        text-align: right;\n",
       "    }\n",
       "</style>\n",
       "<table border=\"1\" class=\"dataframe\">\n",
       "  <thead>\n",
       "    <tr style=\"text-align: right;\">\n",
       "      <th></th>\n",
       "      <th>Date</th>\n",
       "      <th>League</th>\n",
       "      <th>Home team</th>\n",
       "      <th>Time</th>\n",
       "      <th>Away team</th>\n",
       "      <th>display_msg</th>\n",
       "    </tr>\n",
       "  </thead>\n",
       "  <tbody>\n",
       "    <tr>\n",
       "      <th>5</th>\n",
       "      <td>Apr 17, 2024</td>\n",
       "      <td>UCL</td>\n",
       "      <td>Manchester City</td>\n",
       "      <td>01:00 PM</td>\n",
       "      <td>Real Madrid</td>\n",
       "      <td>Apr 17, 2024: Real Madrid @ Manchester City - ...</td>\n",
       "    </tr>\n",
       "    <tr>\n",
       "      <th>6</th>\n",
       "      <td>Apr 20, 2024</td>\n",
       "      <td>FAC</td>\n",
       "      <td>Manchester City</td>\n",
       "      <td>10:15 AM</td>\n",
       "      <td>Chelsea</td>\n",
       "      <td>Apr 20, 2024: Chelsea @ Manchester City - 10:1...</td>\n",
       "    </tr>\n",
       "    <tr>\n",
       "      <th>7</th>\n",
       "      <td>Apr 25, 2024</td>\n",
       "      <td>PRL</td>\n",
       "      <td>Brighton &amp; Hove Albion</td>\n",
       "      <td>01:00 PM</td>\n",
       "      <td>Manchester City</td>\n",
       "      <td>Apr 25, 2024: Manchester City @ Brighton &amp; Hov...</td>\n",
       "    </tr>\n",
       "    <tr>\n",
       "      <th>8</th>\n",
       "      <td>Apr 28, 2024</td>\n",
       "      <td>PRL</td>\n",
       "      <td>Nottingham Forest</td>\n",
       "      <td>09:30 AM</td>\n",
       "      <td>Manchester City</td>\n",
       "      <td>Apr 28, 2024: Manchester City @ Nottingham For...</td>\n",
       "    </tr>\n",
       "    <tr>\n",
       "      <th>9</th>\n",
       "      <td>May 04, 2024</td>\n",
       "      <td>PRL</td>\n",
       "      <td>Manchester City</td>\n",
       "      <td>10:30 AM</td>\n",
       "      <td>Wolverhampton Wanderers</td>\n",
       "      <td>May 04, 2024: Wolverhampton Wanderers @ Manche...</td>\n",
       "    </tr>\n",
       "  </tbody>\n",
       "</table>\n",
       "</div>"
      ],
      "text/plain": [
       "           Date League               Home team      Time  \\\n",
       "5  Apr 17, 2024    UCL         Manchester City  01:00 PM   \n",
       "6  Apr 20, 2024    FAC         Manchester City  10:15 AM   \n",
       "7  Apr 25, 2024    PRL  Brighton & Hove Albion  01:00 PM   \n",
       "8  Apr 28, 2024    PRL       Nottingham Forest  09:30 AM   \n",
       "9  May 04, 2024    PRL         Manchester City  10:30 AM   \n",
       "\n",
       "                 Away team                                        display_msg  \n",
       "5              Real Madrid  Apr 17, 2024: Real Madrid @ Manchester City - ...  \n",
       "6                  Chelsea  Apr 20, 2024: Chelsea @ Manchester City - 10:1...  \n",
       "7          Manchester City  Apr 25, 2024: Manchester City @ Brighton & Hov...  \n",
       "8          Manchester City  Apr 28, 2024: Manchester City @ Nottingham For...  \n",
       "9  Wolverhampton Wanderers  May 04, 2024: Wolverhampton Wanderers @ Manche...  "
      ]
     },
     "execution_count": 64,
     "metadata": {},
     "output_type": "execute_result"
    }
   ],
   "source": [
    "df_fixtures_next5"
   ]
  },
  {
   "cell_type": "code",
   "execution_count": 65,
   "metadata": {},
   "outputs": [
    {
     "data": {
      "text/plain": [
       "'Apr 17, 2024: Real Madrid @ Manchester City - 01:00 PM'"
      ]
     },
     "execution_count": 65,
     "metadata": {},
     "output_type": "execute_result"
    }
   ],
   "source": [
    "df_fixtures_next5.display_msg.values[0]"
   ]
  },
  {
   "cell_type": "code",
   "execution_count": 68,
   "metadata": {},
   "outputs": [
    {
     "data": {
      "text/plain": [
       "'Apr 17, 2024: Real Madrid @ Manchester City - 01:00 PM, Apr 20, 2024: Chelsea @ Manchester City - 10:15 AM, Apr 25, 2024: Manchester City @ Brighton & Hove Albion - 01:00 PM, Apr 28, 2024: Manchester City @ Nottingham Forest - 09:30 AM, May 04, 2024: Wolverhampton Wanderers @ Manchester City - 10:30 AM'"
      ]
     },
     "execution_count": 68,
     "metadata": {},
     "output_type": "execute_result"
    }
   ],
   "source": [
    "df_fixtures_next5_fin = df_fixtures_next5[['display_msg']]\n",
    "msg_list = df_fixtures_next5_fin['display_msg'].tolist()\n",
    "final_msg = ', '.join(msg_list)\n",
    "final_msg"
   ]
  },
  {
   "cell_type": "code",
   "execution_count": null,
   "metadata": {},
   "outputs": [],
   "source": []
  },
  {
   "cell_type": "code",
   "execution_count": null,
   "metadata": {},
   "outputs": [],
   "source": []
  },
  {
   "cell_type": "code",
   "execution_count": null,
   "metadata": {},
   "outputs": [],
   "source": []
  },
  {
   "cell_type": "code",
   "execution_count": 62,
   "metadata": {},
   "outputs": [
    {
     "name": "stderr",
     "output_type": "stream",
     "text": [
      "C:\\Users\\Owner\\AppData\\Local\\Temp\\ipykernel_57356\\1962091628.py:1: SettingWithCopyWarning: \n",
      "A value is trying to be set on a copy of a slice from a DataFrame.\n",
      "Try using .loc[row_indexer,col_indexer] = value instead\n",
      "\n",
      "See the caveats in the documentation: https://pandas.pydata.org/pandas-docs/stable/user_guide/indexing.html#returning-a-view-versus-a-copy\n",
      "  df_fixtures_prev5['display_msg'] = df_fixtures_prev5['Date'] + ': ' + df_fixtures_prev5['Home team'] + ' ' + df_fixtures_prev5['Time'] + ' ' + df_fixtures_prev5['Away team']\n"
     ]
    }
   ],
   "source": [
    "df_fixtures_prev5['display_msg'] = df_fixtures_prev5['Date'] + ': ' + df_fixtures_prev5['Home team'] + ' ' + df_fixtures_prev5['Time'] + ' ' + df_fixtures_prev5['Away team']"
   ]
  },
  {
   "cell_type": "code",
   "execution_count": 63,
   "metadata": {},
   "outputs": [
    {
     "data": {
      "text/html": [
       "<div>\n",
       "<style scoped>\n",
       "    .dataframe tbody tr th:only-of-type {\n",
       "        vertical-align: middle;\n",
       "    }\n",
       "\n",
       "    .dataframe tbody tr th {\n",
       "        vertical-align: top;\n",
       "    }\n",
       "\n",
       "    .dataframe thead th {\n",
       "        text-align: right;\n",
       "    }\n",
       "</style>\n",
       "<table border=\"1\" class=\"dataframe\">\n",
       "  <thead>\n",
       "    <tr style=\"text-align: right;\">\n",
       "      <th></th>\n",
       "      <th>Date</th>\n",
       "      <th>League</th>\n",
       "      <th>Home team</th>\n",
       "      <th>Time</th>\n",
       "      <th>Away team</th>\n",
       "      <th>display_msg</th>\n",
       "    </tr>\n",
       "  </thead>\n",
       "  <tbody>\n",
       "    <tr>\n",
       "      <th>0</th>\n",
       "      <td>31/03/24</td>\n",
       "      <td>PRL</td>\n",
       "      <td>Manchester City</td>\n",
       "      <td>0 - 0</td>\n",
       "      <td>Arsenal</td>\n",
       "      <td>31/03/24: Manchester City 0 - 0 Arsenal</td>\n",
       "    </tr>\n",
       "    <tr>\n",
       "      <th>1</th>\n",
       "      <td>03/04/24</td>\n",
       "      <td>PRL</td>\n",
       "      <td>Manchester City</td>\n",
       "      <td>4 - 1</td>\n",
       "      <td>Aston Villa</td>\n",
       "      <td>03/04/24: Manchester City 4 - 1 Aston Villa</td>\n",
       "    </tr>\n",
       "    <tr>\n",
       "      <th>2</th>\n",
       "      <td>06/04/24</td>\n",
       "      <td>PRL</td>\n",
       "      <td>Crystal Palace</td>\n",
       "      <td>2 - 4</td>\n",
       "      <td>Manchester City</td>\n",
       "      <td>06/04/24: Crystal Palace 2 - 4 Manchester City</td>\n",
       "    </tr>\n",
       "    <tr>\n",
       "      <th>3</th>\n",
       "      <td>09/04/24</td>\n",
       "      <td>UCL</td>\n",
       "      <td>Real Madrid</td>\n",
       "      <td>3 - 3</td>\n",
       "      <td>Manchester City</td>\n",
       "      <td>09/04/24: Real Madrid 3 - 3 Manchester City</td>\n",
       "    </tr>\n",
       "    <tr>\n",
       "      <th>4</th>\n",
       "      <td>13/04/24</td>\n",
       "      <td>PRL</td>\n",
       "      <td>Manchester City</td>\n",
       "      <td>5 - 1</td>\n",
       "      <td>Luton Town</td>\n",
       "      <td>13/04/24: Manchester City 5 - 1 Luton Town</td>\n",
       "    </tr>\n",
       "  </tbody>\n",
       "</table>\n",
       "</div>"
      ],
      "text/plain": [
       "       Date League        Home team   Time        Away team  \\\n",
       "0  31/03/24    PRL  Manchester City  0 - 0          Arsenal   \n",
       "1  03/04/24    PRL  Manchester City  4 - 1      Aston Villa   \n",
       "2  06/04/24    PRL   Crystal Palace  2 - 4  Manchester City   \n",
       "3  09/04/24    UCL      Real Madrid  3 - 3  Manchester City   \n",
       "4  13/04/24    PRL  Manchester City  5 - 1       Luton Town   \n",
       "\n",
       "                                      display_msg  \n",
       "0         31/03/24: Manchester City 0 - 0 Arsenal  \n",
       "1     03/04/24: Manchester City 4 - 1 Aston Villa  \n",
       "2  06/04/24: Crystal Palace 2 - 4 Manchester City  \n",
       "3     09/04/24: Real Madrid 3 - 3 Manchester City  \n",
       "4      13/04/24: Manchester City 5 - 1 Luton Town  "
      ]
     },
     "execution_count": 63,
     "metadata": {},
     "output_type": "execute_result"
    }
   ],
   "source": [
    "df_fixtures_prev5"
   ]
  },
  {
   "cell_type": "code",
   "execution_count": null,
   "metadata": {},
   "outputs": [],
   "source": []
  },
  {
   "cell_type": "code",
   "execution_count": null,
   "metadata": {},
   "outputs": [],
   "source": []
  }
 ],
 "metadata": {
  "kernelspec": {
   "display_name": "Python 3",
   "language": "python",
   "name": "python3"
  },
  "language_info": {
   "codemirror_mode": {
    "name": "ipython",
    "version": 3
   },
   "file_extension": ".py",
   "mimetype": "text/x-python",
   "name": "python",
   "nbconvert_exporter": "python",
   "pygments_lexer": "ipython3",
   "version": "3.10.6"
  }
 },
 "nbformat": 4,
 "nbformat_minor": 2
}
