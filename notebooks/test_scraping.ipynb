{
 "cells": [
  {
   "cell_type": "markdown",
   "metadata": {},
   "source": [
    "# Var Config"
   ]
  },
  {
   "cell_type": "code",
   "execution_count": 5,
   "metadata": {},
   "outputs": [],
   "source": [
    "import pandas as pd"
   ]
  },
  {
   "cell_type": "code",
   "execution_count": 6,
   "metadata": {},
   "outputs": [],
   "source": [
    "fb_data = pd.read_csv(r\"C:\\Users\\Owner\\Documents\\Data Projects\\GitHub\\Apps\\project_w\\data\\football_data.csv\")"
   ]
  },
  {
   "cell_type": "code",
   "execution_count": 7,
   "metadata": {},
   "outputs": [],
   "source": [
    "team = 'Aston Villa'"
   ]
  },
  {
   "cell_type": "code",
   "execution_count": 8,
   "metadata": {},
   "outputs": [
    {
     "data": {
      "text/plain": [
       "'https://ng.soccerway.com//teams/england/aston-villa-football-club/665/'"
      ]
     },
     "execution_count": 8,
     "metadata": {},
     "output_type": "execute_result"
    }
   ],
   "source": [
    "team_url = fb_data[fb_data['team'] == team].url.values[0]\n",
    "team_url"
   ]
  },
  {
   "cell_type": "markdown",
   "metadata": {},
   "source": [
    "## Requests"
   ]
  },
  {
   "cell_type": "markdown",
   "metadata": {},
   "source": [
    "#### (currently (10/7/24) not working (but is currentl what we're using in the class because it worked before))"
   ]
  },
  {
   "cell_type": "code",
   "execution_count": 12,
   "metadata": {},
   "outputs": [],
   "source": [
    "import requests\n",
    "from bs4 import BeautifulSoup"
   ]
  },
  {
   "cell_type": "code",
   "execution_count": 15,
   "metadata": {},
   "outputs": [],
   "source": [
    "agent = 'Mozilla/5.0 (Windows NT 10.0; Windows; x64) AppleWebKit/537.36 (KHTML, like Gecko) Chrome/103.0.5060.114 Safari/537.36'"
   ]
  },
  {
   "cell_type": "code",
   "execution_count": 16,
   "metadata": {},
   "outputs": [],
   "source": [
    "team_response = requests.get(team_url, headers={'User-Agent': agent})"
   ]
  },
  {
   "cell_type": "code",
   "execution_count": 17,
   "metadata": {},
   "outputs": [
    {
     "data": {
      "text/plain": [
       "<Response [403]>"
      ]
     },
     "execution_count": 17,
     "metadata": {},
     "output_type": "execute_result"
    }
   ],
   "source": [
    "team_response"
   ]
  },
  {
   "cell_type": "markdown",
   "metadata": {},
   "source": [
    "## Selenium + BS4"
   ]
  },
  {
   "cell_type": "code",
   "execution_count": 9,
   "metadata": {},
   "outputs": [],
   "source": [
    "import os\n",
    "from selenium import webdriver\n",
    "from selenium.webdriver.common.by import By\n",
    "from selenium.webdriver.chrome.service import Service\n",
    "from selenium.webdriver.support.ui import WebDriverWait\n",
    "from selenium.webdriver.support import expected_conditions as EC\n",
    "from selenium.common.exceptions import TimeoutException\n",
    "from bs4 import BeautifulSoup"
   ]
  },
  {
   "cell_type": "code",
   "execution_count": 10,
   "metadata": {},
   "outputs": [],
   "source": [
    "# Get the ChromeDriver path from your environment variable\n",
    "chrome_driver_path = os.getenv('chrome_driver_path')\n",
    "\n",
    "# Setup WebDriver\n",
    "service = Service(chrome_driver_path)  # Use the path from environment variable\n",
    "driver = webdriver.Chrome(service=service)"
   ]
  },
  {
   "cell_type": "markdown",
   "metadata": {},
   "source": [
    "### Test out Selenium"
   ]
  },
  {
   "cell_type": "code",
   "execution_count": 27,
   "metadata": {},
   "outputs": [
    {
     "name": "stdout",
     "output_type": "stream",
     "text": [
      "England - Aston Villa FC - Results, fixtures, squad, statistics, photos, videos and news - Soccerway\n"
     ]
    }
   ],
   "source": [
    "try:\n",
    "    # Open the page\n",
    "    driver.get(team_url)\n",
    "    \n",
    "    # Wait until the cookie popup is present and clickable\n",
    "    WebDriverWait(driver, 10).until(\n",
    "        EC.element_to_be_clickable((By.XPATH, \"//button[text()='Reject All']\"))\n",
    "    ).click()\n",
    "\n",
    "    # Now proceed with your scraping task\n",
    "    print(driver.title)\n",
    "\n",
    "except TimeoutException:\n",
    "    print(\"Timed out waiting for cookie pop-up or other elements\")\n",
    "finally:\n",
    "    # Close the browser\n",
    "    driver.quit()"
   ]
  },
  {
   "cell_type": "markdown",
   "metadata": {},
   "source": [
    "### Test out Selenium + BS4"
   ]
  },
  {
   "cell_type": "code",
   "execution_count": 11,
   "metadata": {},
   "outputs": [],
   "source": [
    "try:\n",
    "    # Open the page\n",
    "    driver.get(team_url)\n",
    "    \n",
    "    # Wait until the cookie popup is present and clickable\n",
    "    WebDriverWait(driver, 10).until(\n",
    "        EC.element_to_be_clickable((By.XPATH, \"//button[text()='Reject All']\"))\n",
    "    ).click()\n",
    "\n",
    "    # Now proceed with your scraping task\n",
    "    ## Use BeautifulSoup to parse the page source once the page is fully loaded\n",
    "    soup = BeautifulSoup(driver.page_source, 'html.parser')\n",
    "\n",
    "    # Find the table and extract data as before\n",
    "    table = soup.find_all('table', class_='matches')\n",
    "    dates = [row.text for row in table[0].find_all('td', class_=\"full-date\")]\n",
    "    leagues = [row.text.strip() for row in table[0].find_all('td', class_=\"competition\")]\n",
    "    homes = [row.text.strip() for row in table[0].find_all('td', class_=\"team\")[::2]]\n",
    "    aways = [row.text.strip() for row in table[0].find_all('td', class_=\"team\")[1::2]]\n",
    "    times = [row.text.strip() for row in table[0].find_all('td', class_=\"score-time\")]\n",
    "\n",
    "    # Create dataframes\n",
    "    df_fixtures = pd.DataFrame(\n",
    "        {\n",
    "            'Date': dates,\n",
    "            'League': leagues,\n",
    "            'Home team': homes,\n",
    "            'Time': times,\n",
    "            'Away team': aways\n",
    "        }\n",
    "    )\n",
    "\n",
    "except TimeoutException:\n",
    "    print(\"Timed out waiting for cookie pop-up or other elements\")\n",
    "finally:\n",
    "    # Close the browser\n",
    "    driver.quit()"
   ]
  },
  {
   "cell_type": "code",
   "execution_count": 12,
   "metadata": {},
   "outputs": [
    {
     "data": {
      "text/html": [
       "<div>\n",
       "<style scoped>\n",
       "    .dataframe tbody tr th:only-of-type {\n",
       "        vertical-align: middle;\n",
       "    }\n",
       "\n",
       "    .dataframe tbody tr th {\n",
       "        vertical-align: top;\n",
       "    }\n",
       "\n",
       "    .dataframe thead th {\n",
       "        text-align: right;\n",
       "    }\n",
       "</style>\n",
       "<table border=\"1\" class=\"dataframe\">\n",
       "  <thead>\n",
       "    <tr style=\"text-align: right;\">\n",
       "      <th></th>\n",
       "      <th>Date</th>\n",
       "      <th>League</th>\n",
       "      <th>Home team</th>\n",
       "      <th>Time</th>\n",
       "      <th>Away team</th>\n",
       "    </tr>\n",
       "  </thead>\n",
       "  <tbody>\n",
       "    <tr>\n",
       "      <th>0</th>\n",
       "      <td>21/09/24</td>\n",
       "      <td>PRL</td>\n",
       "      <td>Aston Villa</td>\n",
       "      <td>3 - 1</td>\n",
       "      <td>Wolverhampton Wanderers</td>\n",
       "    </tr>\n",
       "    <tr>\n",
       "      <th>1</th>\n",
       "      <td>24/09/24</td>\n",
       "      <td>LEC</td>\n",
       "      <td>Wycombe Wanderers</td>\n",
       "      <td>1 - 2</td>\n",
       "      <td>Aston Villa</td>\n",
       "    </tr>\n",
       "    <tr>\n",
       "      <th>2</th>\n",
       "      <td>29/09/24</td>\n",
       "      <td>PRL</td>\n",
       "      <td>Ipswich Town</td>\n",
       "      <td>2 - 2</td>\n",
       "      <td>Aston Villa</td>\n",
       "    </tr>\n",
       "    <tr>\n",
       "      <th>3</th>\n",
       "      <td>02/10/24</td>\n",
       "      <td>UCL</td>\n",
       "      <td>Aston Villa</td>\n",
       "      <td>1 - 0</td>\n",
       "      <td>Bayern Munich</td>\n",
       "    </tr>\n",
       "    <tr>\n",
       "      <th>4</th>\n",
       "      <td>06/10/24</td>\n",
       "      <td>PRL</td>\n",
       "      <td>Aston Villa</td>\n",
       "      <td>0 - 0</td>\n",
       "      <td>Manchester United</td>\n",
       "    </tr>\n",
       "    <tr>\n",
       "      <th>5</th>\n",
       "      <td>19/10/24</td>\n",
       "      <td>PRL</td>\n",
       "      <td>Fulham</td>\n",
       "      <td>08 : 00</td>\n",
       "      <td>Aston Villa</td>\n",
       "    </tr>\n",
       "    <tr>\n",
       "      <th>6</th>\n",
       "      <td>22/10/24</td>\n",
       "      <td>UCL</td>\n",
       "      <td>Aston Villa</td>\n",
       "      <td>13 : 00</td>\n",
       "      <td>Bologna</td>\n",
       "    </tr>\n",
       "    <tr>\n",
       "      <th>7</th>\n",
       "      <td>26/10/24</td>\n",
       "      <td>PRL</td>\n",
       "      <td>Aston Villa</td>\n",
       "      <td>08 : 00</td>\n",
       "      <td>AFC Bournemouth</td>\n",
       "    </tr>\n",
       "    <tr>\n",
       "      <th>8</th>\n",
       "      <td>30/10/24</td>\n",
       "      <td>LEC</td>\n",
       "      <td>Aston Villa</td>\n",
       "      <td>13 : 45</td>\n",
       "      <td>Crystal Palace</td>\n",
       "    </tr>\n",
       "    <tr>\n",
       "      <th>9</th>\n",
       "      <td>03/11/24</td>\n",
       "      <td>PRL</td>\n",
       "      <td>Tottenham Hotspur</td>\n",
       "      <td>07 : 00</td>\n",
       "      <td>Aston Villa</td>\n",
       "    </tr>\n",
       "  </tbody>\n",
       "</table>\n",
       "</div>"
      ],
      "text/plain": [
       "       Date League          Home team     Time                Away team\n",
       "0  21/09/24    PRL        Aston Villa    3 - 1  Wolverhampton Wanderers\n",
       "1  24/09/24    LEC  Wycombe Wanderers    1 - 2              Aston Villa\n",
       "2  29/09/24    PRL       Ipswich Town    2 - 2              Aston Villa\n",
       "3  02/10/24    UCL        Aston Villa    1 - 0            Bayern Munich\n",
       "4  06/10/24    PRL        Aston Villa    0 - 0        Manchester United\n",
       "5  19/10/24    PRL             Fulham  08 : 00              Aston Villa\n",
       "6  22/10/24    UCL        Aston Villa  13 : 00                  Bologna\n",
       "7  26/10/24    PRL        Aston Villa  08 : 00          AFC Bournemouth\n",
       "8  30/10/24    LEC        Aston Villa  13 : 45           Crystal Palace\n",
       "9  03/11/24    PRL  Tottenham Hotspur  07 : 00              Aston Villa"
      ]
     },
     "execution_count": 12,
     "metadata": {},
     "output_type": "execute_result"
    }
   ],
   "source": [
    "df_fixtures"
   ]
  },
  {
   "cell_type": "code",
   "execution_count": null,
   "metadata": {},
   "outputs": [],
   "source": []
  }
 ],
 "metadata": {
  "kernelspec": {
   "display_name": "Python 3",
   "language": "python",
   "name": "python3"
  },
  "language_info": {
   "codemirror_mode": {
    "name": "ipython",
    "version": 3
   },
   "file_extension": ".py",
   "mimetype": "text/x-python",
   "name": "python",
   "nbconvert_exporter": "python",
   "pygments_lexer": "ipython3",
   "version": "3.10.6"
  }
 },
 "nbformat": 4,
 "nbformat_minor": 2
}
